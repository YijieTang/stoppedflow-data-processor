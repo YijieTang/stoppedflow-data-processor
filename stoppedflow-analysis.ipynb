{
 "cells": [
  {
   "cell_type": "markdown",
   "metadata": {},
   "source": [
    "<span style=\"font-size:20pt;color:blue\">Add title here</span>\n",
    "\n",
    "This is a sample file of interactive stopped-flow data analysis. You do <b>NOT</b> need to understand python language to use this program. By replacing file names and options with your own, you can easily produce figures and interactively adjust plotting optinos. \n",
    "\n",
    "It is strongly recommended to keep this file for reference, and make edits on a duplication of this file. "
   ]
  },
  {
   "cell_type": "markdown",
   "metadata": {},
   "source": [
    "# import libraries and define functions\n",
    "<span style=\"color:red\">Press Ctrl+Enter to run sections</span>"
   ]
  },
  {
   "cell_type": "code",
   "execution_count": 1,
   "metadata": {
    "code_folding": []
   },
   "outputs": [],
   "source": [
    "# import mpld3\n",
    "# mpld3.enable_notebook()\n",
    "%matplotlib widget\n",
    "from sf_utils import *\n",
    "from uv_utils import *"
   ]
  },
  {
   "cell_type": "markdown",
   "metadata": {},
   "source": [
    "# compare multiple inputs on selected lines\n",
    "In many cases, the same trace may be repeated for several times. This "
   ]
  },
  {
   "cell_type": "code",
   "execution_count": 2,
   "metadata": {},
   "outputs": [
    {
     "data": {
      "application/vnd.jupyter.widget-view+json": {
       "model_id": "e9ad565eabdd4fa19a55d5e5e465c3d7",
       "version_major": 2,
       "version_minor": 0
      },
      "text/plain": [
       "Canvas(toolbar=Toolbar(toolitems=[('Home', 'Reset original view', 'home', 'home'), ('Back', 'Back to previous …"
      ]
     },
     "metadata": {},
     "output_type": "display_data"
    },
    {
     "data": {
      "application/vnd.jupyter.widget-view+json": {
       "model_id": "d3978d04baef4bcaa2689258c833f498",
       "version_major": 2,
       "version_minor": 0
      },
      "text/plain": [
       "HBox(children=(interactive(children=(ToggleButton(value=True, description='LogX', icon='check', tooltip='Descr…"
      ]
     },
     "metadata": {},
     "output_type": "display_data"
    },
    {
     "data": {
      "application/vnd.jupyter.widget-view+json": {
       "model_id": "71954af18302408c8060a6b1f10a367a",
       "version_major": 2,
       "version_minor": 0
      },
      "text/plain": [
       "HBox(children=(ColorPicker(value='#000000', concise=True, description=' ', layout=Layout(width='15%')), Output…"
      ]
     },
     "metadata": {},
     "output_type": "display_data"
    },
    {
     "data": {
      "application/vnd.jupyter.widget-view+json": {
       "model_id": "740527041e5c492d82f9c7458299f8b5",
       "version_major": 2,
       "version_minor": 0
      },
      "text/plain": [
       "HBox(children=(ColorPicker(value='#ff0000', concise=True, description=' ', layout=Layout(width='15%')), Output…"
      ]
     },
     "metadata": {},
     "output_type": "display_data"
    },
    {
     "data": {
      "application/vnd.jupyter.widget-view+json": {
       "model_id": "91f0a21ff22a46bcb8fa6a3a83a328a7",
       "version_major": 2,
       "version_minor": 0
      },
      "text/plain": [
       "HBox(children=(ColorPicker(value='#008000', concise=True, description=' ', layout=Layout(width='15%')), Output…"
      ]
     },
     "metadata": {},
     "output_type": "display_data"
    }
   ],
   "source": [
    "rcParams['figure.figsize'] = [6, 4.5]\n",
    "csvfiles = [\n",
    "    'average-sample-10s-1.csv',\n",
    "    'average-sample-10s-2.csv',\n",
    "    'average-sample-10s-3.csv',\n",
    "]\n",
    "\n",
    "\n",
    "sfData = SFData.quickload_csv(csvfiles)\n",
    "\n",
    "sfData.plot_selected_kinetics()\n",
    "display(widgets.HBox([sfData.add_logx_button(), sfData.plot_scan_wavelength_button()]))\n",
    "sfData.plot_interactive_buttons_for_kinetics()"
   ]
  },
  {
   "cell_type": "markdown",
   "metadata": {},
   "source": [
    "# save averaged files"
   ]
  },
  {
   "cell_type": "code",
   "execution_count": 3,
   "metadata": {},
   "outputs": [
    {
     "name": "stdout",
     "output_type": "stream",
     "text": [
      "averaged file name is: average-sample-10s-ave.csv\n"
     ]
    }
   ],
   "source": [
    "csvfiles = [\n",
    "    'average-sample-10s-1.csv',\n",
    "    'average-sample-10s-2.csv',\n",
    "    'average-sample-10s-3.csv',\n",
    "]\n",
    "\n",
    "save_average(csvfiles)"
   ]
  },
  {
   "cell_type": "markdown",
   "metadata": {},
   "source": [
    "# plot full spectra with more options"
   ]
  },
  {
   "cell_type": "markdown",
   "metadata": {},
   "source": [
    "## plot with table"
   ]
  },
  {
   "cell_type": "code",
   "execution_count": 4,
   "metadata": {},
   "outputs": [
    {
     "data": {
      "application/vnd.jupyter.widget-view+json": {
       "model_id": "c154a8e27bdb4a00aa516800090e3adf",
       "version_major": 2,
       "version_minor": 0
      },
      "text/plain": [
       "Canvas(toolbar=Toolbar(toolitems=[('Home', 'Reset original view', 'home', 'home'), ('Back', 'Back to previous …"
      ]
     },
     "metadata": {},
     "output_type": "display_data"
    },
    {
     "data": {
      "application/vnd.jupyter.widget-view+json": {
       "model_id": "e023b45481b04e8cadf0b00022ae9b49",
       "version_major": 2,
       "version_minor": 0
      },
      "text/plain": [
       "HBox(children=(ColorPicker(value='#000000', concise=True, description=' ', layout=Layout(width='15%')), Output…"
      ]
     },
     "metadata": {},
     "output_type": "display_data"
    },
    {
     "data": {
      "application/vnd.jupyter.widget-view+json": {
       "model_id": "4df093a3db704a4b9ed93902a0f6dee0",
       "version_major": 2,
       "version_minor": 0
      },
      "text/plain": [
       "HBox(children=(ColorPicker(value='#ff0000', concise=True, description=' ', layout=Layout(width='15%')), Output…"
      ]
     },
     "metadata": {},
     "output_type": "display_data"
    },
    {
     "data": {
      "application/vnd.jupyter.widget-view+json": {
       "model_id": "43fd731ced1944f3b453e84ac3c02ef7",
       "version_major": 2,
       "version_minor": 0
      },
      "text/plain": [
       "HBox(children=(ColorPicker(value='#0000ff', concise=True, description=' ', layout=Layout(width='15%')), Output…"
      ]
     },
     "metadata": {},
     "output_type": "display_data"
    },
    {
     "data": {
      "application/vnd.jupyter.widget-view+json": {
       "model_id": "6be7917bc65b417f83417d95928ff12e",
       "version_major": 2,
       "version_minor": 0
      },
      "text/plain": [
       "HBox(children=(ColorPicker(value='#ffa500', concise=True, description=' ', layout=Layout(width='15%')), Output…"
      ]
     },
     "metadata": {},
     "output_type": "display_data"
    },
    {
     "data": {
      "application/vnd.jupyter.widget-view+json": {
       "model_id": "6cb298872ff1415a8b5e1789c3938ddd",
       "version_major": 2,
       "version_minor": 0
      },
      "text/plain": [
       "HBox(children=(ColorPicker(value='#008000', concise=True, description=' ', layout=Layout(width='15%')), Output…"
      ]
     },
     "metadata": {},
     "output_type": "display_data"
    },
    {
     "data": {
      "text/plain": [
       "<sf_utils.SFData at 0x7fcf78021048>"
      ]
     },
     "execution_count": 4,
     "metadata": {},
     "output_type": "execute_result"
    }
   ],
   "source": [
    "df = pd.DataFrame(\n",
    "    columns=['csvfile', 'legend', 'shift', 'scale', 'color', 'timepoint'],\n",
    "    data=[\n",
    "        ['average-sample-10s-ave.csv', '0.003s', 0, 1, 'black', 0.003],\n",
    "        ['average-sample-10s-ave.csv', '0.01s', 0, 1, 'red', 0.01],\n",
    "        ['average-sample-10s-ave.csv', '0.1s', 0, 1, 'blue', 0.1],\n",
    "        ['average-sample-10s-ave.csv', '1s', 0, 1, 'orange', 1],\n",
    "        ['average-sample-10s-ave.csv', '10s', 0, 1, 'green', 10],\n",
    "    ]\n",
    ")\n",
    "\n",
    "base = pd.DataFrame(\n",
    "    columns=['csvfile', 'timepoint'],\n",
    "    data=[\n",
    "        ['average-sample-10s-ave.csv', 0.002],\n",
    "    ]\n",
    ")\n",
    "\n",
    "# plot_from_df(df, valuetype='timepoint') # no subtraction\n",
    "plot_from_df(df, valuetype='timepoint', base=base) # subtract spectra at certain timepoint"
   ]
  },
  {
   "cell_type": "markdown",
   "metadata": {},
   "source": [
    "## plot with variables (lower level API)"
   ]
  },
  {
   "cell_type": "code",
   "execution_count": 5,
   "metadata": {},
   "outputs": [
    {
     "data": {
      "application/vnd.jupyter.widget-view+json": {
       "model_id": "f2cd105e87cd4fef90c007f4232b4196",
       "version_major": 2,
       "version_minor": 0
      },
      "text/plain": [
       "Canvas(toolbar=Toolbar(toolitems=[('Home', 'Reset original view', 'home', 'home'), ('Back', 'Back to previous …"
      ]
     },
     "metadata": {},
     "output_type": "display_data"
    },
    {
     "data": {
      "application/vnd.jupyter.widget-view+json": {
       "model_id": "d64af8a1803c440cb4d2f78ad5d967ff",
       "version_major": 2,
       "version_minor": 0
      },
      "text/plain": [
       "HBox(children=(ColorPicker(value='#000000', concise=True, description=' ', layout=Layout(width='15%')), Output…"
      ]
     },
     "metadata": {},
     "output_type": "display_data"
    },
    {
     "data": {
      "application/vnd.jupyter.widget-view+json": {
       "model_id": "1ac02290a4ec44ad8aadde4508b249bd",
       "version_major": 2,
       "version_minor": 0
      },
      "text/plain": [
       "HBox(children=(ColorPicker(value='#ff0000', concise=True, description=' ', layout=Layout(width='15%')), Output…"
      ]
     },
     "metadata": {},
     "output_type": "display_data"
    },
    {
     "data": {
      "application/vnd.jupyter.widget-view+json": {
       "model_id": "4325599f24b044ccbcdd6da9476c69ce",
       "version_major": 2,
       "version_minor": 0
      },
      "text/plain": [
       "HBox(children=(ColorPicker(value='#0000ff', concise=True, description=' ', layout=Layout(width='15%')), Output…"
      ]
     },
     "metadata": {},
     "output_type": "display_data"
    },
    {
     "data": {
      "application/vnd.jupyter.widget-view+json": {
       "model_id": "70106ca984934651a7411532a40b6d7e",
       "version_major": 2,
       "version_minor": 0
      },
      "text/plain": [
       "HBox(children=(ColorPicker(value='#ffa500', concise=True, description=' ', layout=Layout(width='15%')), Output…"
      ]
     },
     "metadata": {},
     "output_type": "display_data"
    },
    {
     "data": {
      "application/vnd.jupyter.widget-view+json": {
       "model_id": "2ad58ca43b2f426a84f14f37eaf20266",
       "version_major": 2,
       "version_minor": 0
      },
      "text/plain": [
       "HBox(children=(ColorPicker(value='#008000', concise=True, description=' ', layout=Layout(width='15%')), Output…"
      ]
     },
     "metadata": {},
     "output_type": "display_data"
    }
   ],
   "source": [
    "rcParams['figure.figsize'] = [6, 4.5]\n",
    "fig = plt.figure()\n",
    "axis = fig.gca()\n",
    "\n",
    "csvfiles = [\n",
    "    'average-sample-10s-ave.csv',\n",
    "    'average-sample-10s-ave.csv',\n",
    "    'average-sample-10s-ave.csv',\n",
    "    'average-sample-10s-ave.csv',\n",
    "    'average-sample-10s-ave.csv',\n",
    "]\n",
    "\n",
    "dfs = list(map(load_data, csvfiles))\n",
    "df_base = dfs[0].iloc[1,:]\n",
    "dfs = [df - df_base for df in dfs]\n",
    "\n",
    "timepoints = [\n",
    "    [0.003],\n",
    "    [0.01],\n",
    "    [0.1],\n",
    "    [1],\n",
    "    [10]\n",
    "]\n",
    "\n",
    "legends = [\n",
    "    ['0.003s'],\n",
    "    ['0.01s'],\n",
    "    ['0.1s'],\n",
    "    ['1s'],\n",
    "    ['10s']\n",
    "]\n",
    "\n",
    "shifts = [\n",
    "    [0],\n",
    "    [0],\n",
    "    [0],\n",
    "    [0],\n",
    "    [0]\n",
    "]\n",
    "\n",
    "scales = [\n",
    "    [1],\n",
    "    [1],\n",
    "    [1],\n",
    "    [1],\n",
    "    [1],\n",
    "]\n",
    "\n",
    "colors = [\n",
    "    ['black'],\n",
    "    ['red'],\n",
    "    ['blue'],\n",
    "    ['orange'],\n",
    "    ['green']\n",
    "]\n",
    "\n",
    "sfData = SFData(\n",
    "    axis=axis,\n",
    "    dfs=dfs,\n",
    "    colors=colors,\n",
    "    legends=legends,\n",
    "    scales=scales,\n",
    "    shifts=shifts,\n",
    "    xlabel='Time (s)',\n",
    "    ylabel='Abs',\n",
    ")\n",
    "\n",
    "sfData.plot_selected_spectra(timepoints)\n",
    "# display(widgets.HBox([sfData.plot_scan_timepoint_button()]))\n",
    "sfData.plot_interactive_buttons_for_spectra()"
   ]
  },
  {
   "cell_type": "markdown",
   "metadata": {},
   "source": [
    "# plot kinetic curves with more options"
   ]
  },
  {
   "cell_type": "markdown",
   "metadata": {},
   "source": [
    "## plot with table"
   ]
  },
  {
   "cell_type": "code",
   "execution_count": 6,
   "metadata": {},
   "outputs": [
    {
     "data": {
      "application/vnd.jupyter.widget-view+json": {
       "model_id": "c99d64cc7a29419182c23a044c0def18",
       "version_major": 2,
       "version_minor": 0
      },
      "text/plain": [
       "Canvas(toolbar=Toolbar(toolitems=[('Home', 'Reset original view', 'home', 'home'), ('Back', 'Back to previous …"
      ]
     },
     "metadata": {},
     "output_type": "display_data"
    },
    {
     "data": {
      "application/vnd.jupyter.widget-view+json": {
       "model_id": "05b4f2da1ae84abdbb4b5c95af6fa25c",
       "version_major": 2,
       "version_minor": 0
      },
      "text/plain": [
       "interactive(children=(ToggleButton(value=True, description='LogX', icon='check', tooltip='Description'), Outpu…"
      ]
     },
     "metadata": {},
     "output_type": "display_data"
    },
    {
     "data": {
      "application/vnd.jupyter.widget-view+json": {
       "model_id": "9bf852cba8404ac987b1815c47a442f0",
       "version_major": 2,
       "version_minor": 0
      },
      "text/plain": [
       "HBox(children=(ColorPicker(value='#000000', concise=True, description=' ', layout=Layout(width='15%')), Output…"
      ]
     },
     "metadata": {},
     "output_type": "display_data"
    },
    {
     "data": {
      "application/vnd.jupyter.widget-view+json": {
       "model_id": "8c3f26f993b24eac855e926fdadae3ef",
       "version_major": 2,
       "version_minor": 0
      },
      "text/plain": [
       "HBox(children=(ColorPicker(value='#ff0000', concise=True, description=' ', layout=Layout(width='15%')), Output…"
      ]
     },
     "metadata": {},
     "output_type": "display_data"
    },
    {
     "data": {
      "application/vnd.jupyter.widget-view+json": {
       "model_id": "9884caad737545248659ac66686f4fc8",
       "version_major": 2,
       "version_minor": 0
      },
      "text/plain": [
       "HBox(children=(ColorPicker(value='#0000ff', concise=True, description=' ', layout=Layout(width='15%')), Output…"
      ]
     },
     "metadata": {},
     "output_type": "display_data"
    },
    {
     "data": {
      "text/plain": [
       "<sf_utils.SFData at 0x7fcf74e56d68>"
      ]
     },
     "execution_count": 6,
     "metadata": {},
     "output_type": "execute_result"
    }
   ],
   "source": [
    "df = pd.DataFrame(\n",
    "    columns=['csvfile', 'legend', 'shift', 'scale', 'color', 'wavelength'],\n",
    "    data=[\n",
    "        ['average-sample-10s-ave.csv', '350nm', 0, 1, 'black', 350],\n",
    "        ['average-sample-10s-ave.csv', '400nm', 0, 1, 'red', 400],\n",
    "        ['average-sample-10s-ave.csv', '450nm', 0, 1, 'blue', 450],\n",
    "    ]\n",
    ")\n",
    "\n",
    "base = pd.DataFrame(\n",
    "    columns=['csvfile', 'timepoint'],\n",
    "    data=[\n",
    "        ['average-sample-10s-ave.csv', 0.002],\n",
    "    ]\n",
    ")\n",
    "\n",
    "# plot_from_df(df, valuetype='wavelength')   \n",
    "plot_from_df(df, valuetype='wavelength', base=base)"
   ]
  },
  {
   "cell_type": "markdown",
   "metadata": {},
   "source": [
    "## plot with variables (lower level API)"
   ]
  },
  {
   "cell_type": "code",
   "execution_count": 7,
   "metadata": {
    "code_folding": []
   },
   "outputs": [
    {
     "data": {
      "application/vnd.jupyter.widget-view+json": {
       "model_id": "47be08e220d14ba780b235712dd43c57",
       "version_major": 2,
       "version_minor": 0
      },
      "text/plain": [
       "Canvas(toolbar=Toolbar(toolitems=[('Home', 'Reset original view', 'home', 'home'), ('Back', 'Back to previous …"
      ]
     },
     "metadata": {},
     "output_type": "display_data"
    },
    {
     "data": {
      "application/vnd.jupyter.widget-view+json": {
       "model_id": "8c5ff397678f4eadab9b76146d8b99d1",
       "version_major": 2,
       "version_minor": 0
      },
      "text/plain": [
       "interactive(children=(ToggleButton(value=True, description='LogX', icon='check', tooltip='Description'), Outpu…"
      ]
     },
     "metadata": {},
     "output_type": "display_data"
    },
    {
     "data": {
      "application/vnd.jupyter.widget-view+json": {
       "model_id": "18d56a1632f846d38306da93b42961d6",
       "version_major": 2,
       "version_minor": 0
      },
      "text/plain": [
       "HBox(children=(ColorPicker(value='#000000', concise=True, description=' ', layout=Layout(width='15%')), Output…"
      ]
     },
     "metadata": {},
     "output_type": "display_data"
    },
    {
     "data": {
      "application/vnd.jupyter.widget-view+json": {
       "model_id": "f7731d33a5dd47fab504bca1ad7920b7",
       "version_major": 2,
       "version_minor": 0
      },
      "text/plain": [
       "HBox(children=(ColorPicker(value='#ff0000', concise=True, description=' ', layout=Layout(width='15%')), Output…"
      ]
     },
     "metadata": {},
     "output_type": "display_data"
    },
    {
     "data": {
      "application/vnd.jupyter.widget-view+json": {
       "model_id": "d96586e94413465dbd275a02167d9696",
       "version_major": 2,
       "version_minor": 0
      },
      "text/plain": [
       "HBox(children=(ColorPicker(value='#0000ff', concise=True, description=' ', layout=Layout(width='15%')), Output…"
      ]
     },
     "metadata": {},
     "output_type": "display_data"
    }
   ],
   "source": [
    "rcParams['figure.figsize'] = [6, 4.5]\n",
    "fig = plt.figure()\n",
    "axis = fig.gca()\n",
    "\n",
    "csvfiles = [\n",
    "    'average-sample-10s-ave.csv',\n",
    "    'average-sample-10s-ave.csv',\n",
    "    'average-sample-10s-ave.csv',\n",
    "]\n",
    "\n",
    "dfs = list(map(load_data, csvfiles))\n",
    "\n",
    "df_base = dfs[0].iloc[1,:]\n",
    "dfs = [df - df_base for df in dfs]\n",
    "\n",
    "wavelengths = [\n",
    "    [350],\n",
    "    [400],\n",
    "    [450],\n",
    "]\n",
    "\n",
    "legends = [\n",
    "    ['350 nm'],\n",
    "    ['400 nm'],\n",
    "    ['450 nm'],\n",
    "]\n",
    "\n",
    "shifts = [\n",
    "    [0],\n",
    "    [0],\n",
    "    [0],\n",
    "]\n",
    "\n",
    "scales = [\n",
    "    [1],\n",
    "    [1],\n",
    "    [1],\n",
    "]\n",
    "\n",
    "colors = [\n",
    "    ['black'],\n",
    "    ['red'],\n",
    "    ['blue'],\n",
    "]\n",
    "\n",
    "sfData = SFData(\n",
    "    axis=axis,\n",
    "    dfs=dfs,\n",
    "    colors=colors,\n",
    "    legends=legends,\n",
    "    scales=scales,\n",
    "    shifts=shifts,\n",
    "    xlabel='Time (s)',\n",
    "    ylabel='Abs',\n",
    ")\n",
    "\n",
    "sfData.plot_selected_kinetics(wavelengths)\n",
    "display(sfData.add_logx_button())\n",
    "# display(widgets.HBoxsfDataData.add_logx_button(), sfData.plot_scan_wavelength_button()]))\n",
    "sfData.plot_interactive_buttons_for_kinetics()"
   ]
  },
  {
   "cell_type": "markdown",
   "metadata": {},
   "source": [
    "# overview - kinetic curve and full spectra\n",
    "<span style=\"color:red\">Warning: this section is slow</span>"
   ]
  },
  {
   "cell_type": "code",
   "execution_count": 8,
   "metadata": {},
   "outputs": [
    {
     "data": {
      "application/vnd.jupyter.widget-view+json": {
       "model_id": "9ad8564396fc4cfbbd18df9d80b15070",
       "version_major": 2,
       "version_minor": 0
      },
      "text/plain": [
       "Canvas(toolbar=Toolbar(toolitems=[('Home', 'Reset original view', 'home', 'home'), ('Back', 'Back to previous …"
      ]
     },
     "metadata": {},
     "output_type": "display_data"
    }
   ],
   "source": [
    "rcParams['figure.figsize'] = [9, 4.5]\n",
    "csvfile = 'average-sample-10s-ave.csv'\n",
    "df = load_data(csvfile)\n",
    "(row, col) = (1, 2)\n",
    "fig, axs = plt.subplots(row, col, sharex=False, sharey=False)\n",
    "axis1 = axs[0]  # first axis\n",
    "axis2 = axs[1]  # second axis\n",
    "\n",
    "plot_all_kinetic(df, axis1)\n",
    "plot_all_spectra(df, axis2)"
   ]
  },
  {
   "cell_type": "markdown",
   "metadata": {},
   "source": [
    "# overview - difference spectra\n",
    "<span style=\"color:red\">Warning: this section is slow</span>"
   ]
  },
  {
   "cell_type": "code",
   "execution_count": 9,
   "metadata": {},
   "outputs": [
    {
     "data": {
      "application/vnd.jupyter.widget-view+json": {
       "model_id": "5878c1c41c5b4534ad315cacac135301",
       "version_major": 2,
       "version_minor": 0
      },
      "text/plain": [
       "Canvas(toolbar=Toolbar(toolitems=[('Home', 'Reset original view', 'home', 'home'), ('Back', 'Back to previous …"
      ]
     },
     "metadata": {},
     "output_type": "display_data"
    }
   ],
   "source": [
    "rcParams['figure.figsize'] = [9, 4.5]\n",
    "df = load_data(csvfile)\n",
    "baseCurve = df.iloc[1,:] # select the second time point as baseline\n",
    "diffDf = df - baseCurve\n",
    "df1 = df - baseCurve\n",
    "(row, col) = (1, 2)\n",
    "fig, axs = plt.subplots(row, col, sharex=False, sharey=False)\n",
    "axis1 = axs[0]  # first axis\n",
    "axis2 = axs[1]  # second axis\n",
    "\n",
    "plot_all_kinetic(df1, axis1)\n",
    "plot_all_spectra(df1, axis2)"
   ]
  },
  {
   "cell_type": "markdown",
   "metadata": {},
   "source": [
    "# export kintek input files"
   ]
  },
  {
   "cell_type": "code",
   "execution_count": 10,
   "metadata": {},
   "outputs": [
    {
     "name": "stdout",
     "output_type": "stream",
     "text": [
      "kintek input file saved as kintek-sample-1-10s-data.txt\n",
      "kintek input file saved as kintek-sample-2-10s-data.txt\n"
     ]
    }
   ],
   "source": [
    "csvfile = 'kintek-sample-1-10s.csv'\n",
    "wavelengths = [440]\n",
    "kintekFileName = 'kintek-sample-1-10s-data.txt'\n",
    "export_kintek(csvfile, wavelengths, kintekFileName)\n",
    "\n",
    "csvfile = 'kintek-sample-2-10s.csv'\n",
    "wavelengths = [440]\n",
    "kintekFileName = 'kintek-sample-2-10s-data.txt'\n",
    "export_kintek(csvfile, wavelengths, kintekFileName)"
   ]
  },
  {
   "cell_type": "markdown",
   "metadata": {},
   "source": [
    "# plot original kinetic and kintek simulation"
   ]
  },
  {
   "cell_type": "code",
   "execution_count": 11,
   "metadata": {
    "code_folding": [
     8,
     17,
     38
    ]
   },
   "outputs": [
    {
     "data": {
      "application/vnd.jupyter.widget-view+json": {
       "model_id": "74aaec0545c24ab89e4ec76bac9b3255",
       "version_major": 2,
       "version_minor": 0
      },
      "text/plain": [
       "Canvas(toolbar=Toolbar(toolitems=[('Home', 'Reset original view', 'home', 'home'), ('Back', 'Back to previous …"
      ]
     },
     "metadata": {},
     "output_type": "display_data"
    },
    {
     "data": {
      "application/vnd.jupyter.widget-view+json": {
       "model_id": "587fa49ce1744931ba26223ea2a91b5e",
       "version_major": 2,
       "version_minor": 0
      },
      "text/plain": [
       "HBox(children=(ColorPicker(value='#ff0000', concise=True, description=' ', layout=Layout(width='auto')), Outpu…"
      ]
     },
     "metadata": {},
     "output_type": "display_data"
    },
    {
     "data": {
      "application/vnd.jupyter.widget-view+json": {
       "model_id": "623fa953f1ab4c1e807c0679ae3f258b",
       "version_major": 2,
       "version_minor": 0
      },
      "text/plain": [
       "HBox(children=(ColorPicker(value='#0080ff', concise=True, description=' ', layout=Layout(width='auto')), Outpu…"
      ]
     },
     "metadata": {},
     "output_type": "display_data"
    },
    {
     "data": {
      "application/vnd.jupyter.widget-view+json": {
       "model_id": "cacd1e438bd44256ad199748d1e887e4",
       "version_major": 2,
       "version_minor": 0
      },
      "text/plain": [
       "HBox(children=(ColorPicker(value='#000000', concise=True, description=' ', layout=Layout(width='auto')), Outpu…"
      ]
     },
     "metadata": {},
     "output_type": "display_data"
    },
    {
     "data": {
      "application/vnd.jupyter.widget-view+json": {
       "model_id": "52370488ca1f4f85938cd12611715346",
       "version_major": 2,
       "version_minor": 0
      },
      "text/plain": [
       "HBox(children=(ColorPicker(value='#000000', concise=True, description=' ', layout=Layout(width='auto')), Outpu…"
      ]
     },
     "metadata": {},
     "output_type": "display_data"
    }
   ],
   "source": [
    "rcParams['figure.figsize'] = [6, 4.5]\n",
    "rcParams.update({'xtick.labelsize': 14})\n",
    "rcParams.update({'ytick.labelsize': 14})\n",
    "rcParams.update({'axes.labelsize':16})\n",
    "rcParams.update({'legend.frameon': False})\n",
    "rcParams.update({'legend.fontsize': 14})\n",
    "\n",
    "simfiles = [\n",
    "    'kintek-sample-1-10s-data.txt',\n",
    "    'kintek-sample-2-10s-data.txt',\n",
    "    'kintek-sample-1-10s-sim.txt',\n",
    "    'kintek-sample-2-10s-sim.txt',\n",
    "]\n",
    "\n",
    "dfs = list(map(read_kintek_simulation, simfiles))\n",
    "\n",
    "df = pd.concat(dfs, axis=1)\n",
    "df = df[df.index > 0.002] # filter the value range to plot\n",
    "df = df[df.index < 0.8] # filter the value range to plot\n",
    "\n",
    "aPlot = AdjustablePlot.quickload_df(df)\n",
    "aPlot.colors = ['red', '#0080ff', 'black', 'black']\n",
    "aPlot.shifts = [0.007, 0, 0.007, 0]\n",
    "aPlot.legends = ['1', '2', '1-sim', '2-sim']\n",
    "aPlot.plot()\n",
    "\n",
    "aPlot.axis.set_xscale('log')\n",
    "aPlot.axis.set_xlim([0.001, 1])\n",
    "# aPlot.axis.set_ylim([-0.019, 0.029])\n",
    "\n",
    "for i in range(2):\n",
    "    line = aPlot.axis.lines[i]\n",
    "    line.set_marker('.')\n",
    "    line.set_linewidth(0)\n",
    "    line.set_markersize(5)\n",
    "\n",
    "aPlot.axis.lines[-1].set_linestyle('dashed')\n",
    "aPlot.plot_interactive_buttons()\n",
    "_ = aPlot.axis.legend().set_draggable(True)\n",
    "_ = aPlot.axis.set_xlabel('Time (s)')\n",
    "_ = aPlot.axis.set_ylabel('ΔAbs')"
   ]
  },
  {
   "cell_type": "markdown",
   "metadata": {},
   "source": [
    "# plot UV-Vis titration data"
   ]
  },
  {
   "cell_type": "markdown",
   "metadata": {},
   "source": [
    "## plot titration"
   ]
  },
  {
   "cell_type": "code",
   "execution_count": 12,
   "metadata": {},
   "outputs": [
    {
     "data": {
      "application/vnd.jupyter.widget-view+json": {
       "model_id": "b6dfb780a0a04d13a6452aaa34a30bd1",
       "version_major": 2,
       "version_minor": 0
      },
      "text/plain": [
       "Canvas(toolbar=Toolbar(toolitems=[('Home', 'Reset original view', 'home', 'home'), ('Back', 'Back to previous …"
      ]
     },
     "metadata": {},
     "output_type": "display_data"
    },
    {
     "data": {
      "application/vnd.jupyter.widget-view+json": {
       "model_id": "bf9589644cde4a0a822b25c13b0ed4ce",
       "version_major": 2,
       "version_minor": 0
      },
      "text/plain": [
       "HBox(children=(ColorPicker(value='#ff0000', concise=True, description=' ', layout=Layout(width='auto')), Outpu…"
      ]
     },
     "metadata": {},
     "output_type": "display_data"
    },
    {
     "data": {
      "application/vnd.jupyter.widget-view+json": {
       "model_id": "5f0625458d45471baf10d25e99ce9a5e",
       "version_major": 2,
       "version_minor": 0
      },
      "text/plain": [
       "HBox(children=(ColorPicker(value='#e60000', concise=True, description=' ', layout=Layout(width='auto')), Outpu…"
      ]
     },
     "metadata": {},
     "output_type": "display_data"
    },
    {
     "data": {
      "application/vnd.jupyter.widget-view+json": {
       "model_id": "d2fb8ce015bd4e069a297afc3d2235e7",
       "version_major": 2,
       "version_minor": 0
      },
      "text/plain": [
       "HBox(children=(ColorPicker(value='#cc0000', concise=True, description=' ', layout=Layout(width='auto')), Outpu…"
      ]
     },
     "metadata": {},
     "output_type": "display_data"
    },
    {
     "data": {
      "application/vnd.jupyter.widget-view+json": {
       "model_id": "cd16512ebf8045c4b49d70bfa75d4fa9",
       "version_major": 2,
       "version_minor": 0
      },
      "text/plain": [
       "HBox(children=(ColorPicker(value='#b20000', concise=True, description=' ', layout=Layout(width='auto')), Outpu…"
      ]
     },
     "metadata": {},
     "output_type": "display_data"
    },
    {
     "data": {
      "application/vnd.jupyter.widget-view+json": {
       "model_id": "111cf0b227184bdd8c7f68e07e1c8b2f",
       "version_major": 2,
       "version_minor": 0
      },
      "text/plain": [
       "HBox(children=(ColorPicker(value='#990000', concise=True, description=' ', layout=Layout(width='auto')), Outpu…"
      ]
     },
     "metadata": {},
     "output_type": "display_data"
    },
    {
     "data": {
      "application/vnd.jupyter.widget-view+json": {
       "model_id": "5145b7bc55724699b5b2071e9710e8e5",
       "version_major": 2,
       "version_minor": 0
      },
      "text/plain": [
       "HBox(children=(ColorPicker(value='#800000', concise=True, description=' ', layout=Layout(width='auto')), Outpu…"
      ]
     },
     "metadata": {},
     "output_type": "display_data"
    },
    {
     "data": {
      "application/vnd.jupyter.widget-view+json": {
       "model_id": "d04882f6660248f5845b5d954c15c192",
       "version_major": 2,
       "version_minor": 0
      },
      "text/plain": [
       "HBox(children=(ColorPicker(value='#660000', concise=True, description=' ', layout=Layout(width='auto')), Outpu…"
      ]
     },
     "metadata": {},
     "output_type": "display_data"
    },
    {
     "data": {
      "application/vnd.jupyter.widget-view+json": {
       "model_id": "dd144fb00eb441908aafa79b245e8434",
       "version_major": 2,
       "version_minor": 0
      },
      "text/plain": [
       "HBox(children=(ColorPicker(value='#4c0000', concise=True, description=' ', layout=Layout(width='auto')), Outpu…"
      ]
     },
     "metadata": {},
     "output_type": "display_data"
    },
    {
     "data": {
      "application/vnd.jupyter.widget-view+json": {
       "model_id": "e684044264b44e829293d3c9b6036a5d",
       "version_major": 2,
       "version_minor": 0
      },
      "text/plain": [
       "HBox(children=(ColorPicker(value='#330000', concise=True, description=' ', layout=Layout(width='auto')), Outpu…"
      ]
     },
     "metadata": {},
     "output_type": "display_data"
    },
    {
     "data": {
      "application/vnd.jupyter.widget-view+json": {
       "model_id": "1afb9e78f0594339a58bcb63aa9f3f54",
       "version_major": 2,
       "version_minor": 0
      },
      "text/plain": [
       "HBox(children=(ColorPicker(value='#190000', concise=True, description=' ', layout=Layout(width='auto')), Outpu…"
      ]
     },
     "metadata": {},
     "output_type": "display_data"
    },
    {
     "data": {
      "text/plain": [
       "Text(0, 0.5, 'Abs')"
      ]
     },
     "execution_count": 12,
     "metadata": {},
     "output_type": "execute_result"
    }
   ],
   "source": [
    "rcParams['figure.figsize'] = [6, 4.5]\n",
    "\n",
    "uv_filenames = [\n",
    "    'titration_and_UV/2.0.CSV', \n",
    "    'titration_and_UV/2.1.CSV',\n",
    "    'titration_and_UV/2.2.CSV',\n",
    "    'titration_and_UV/2.3.CSV',\n",
    "    'titration_and_UV/2.4.CSV',\n",
    "    'titration_and_UV/2.5.CSV',\n",
    "    'titration_and_UV/2.6.CSV',\n",
    "    'titration_and_UV/2.7.CSV',\n",
    "    'titration_and_UV/2.8.CSV',\n",
    "    'titration_and_UV/2.9.CSV',\n",
    "]\n",
    "df = read_multiple_uv_to_df(uv_filenames)\n",
    "aPlot = AdjustablePlot.quickload_df(df)\n",
    "\n",
    "aPlot.colors = color_range('red', 'black', len(uv_filenames))\n",
    "# calculate shift on each spectra to remove baseline floating issue\n",
    "# aPlot.shifts = shift_to_align_wavelength(df, wavelength=1000)\n",
    "aPlot.legends =  ['%5.1f eq aKG' % (0.5*i) for i in range(len(uv_filenames))]\n",
    "\n",
    "\n",
    "aPlot.plot()\n",
    "aPlot.plot_interactive_buttons()\n",
    "\n",
    "aPlot.axis.set_xlim([320, 1100])\n",
    "aPlot.axis.set_ylim([-0.2, 1.2])\n",
    "aPlot.axis.set_title('Titration: PIsnB + 4Fe + 4TyrNC + n*0.5aKG')\n",
    "aPlot.axis.set_xlabel('wavelength (nm)')\n",
    "aPlot.axis.set_ylabel('Abs')"
   ]
  },
  {
   "cell_type": "markdown",
   "metadata": {},
   "source": [
    "## subtraction"
   ]
  },
  {
   "cell_type": "code",
   "execution_count": 13,
   "metadata": {},
   "outputs": [
    {
     "data": {
      "application/vnd.jupyter.widget-view+json": {
       "model_id": "7341f1490dfd42b8afb8c5ba78028bf7",
       "version_major": 2,
       "version_minor": 0
      },
      "text/plain": [
       "Canvas(toolbar=Toolbar(toolitems=[('Home', 'Reset original view', 'home', 'home'), ('Back', 'Back to previous …"
      ]
     },
     "metadata": {},
     "output_type": "display_data"
    },
    {
     "data": {
      "application/vnd.jupyter.widget-view+json": {
       "model_id": "4d09c276c0b04545b164235b9ddfa537",
       "version_major": 2,
       "version_minor": 0
      },
      "text/plain": [
       "HBox(children=(ColorPicker(value='#ff0000', concise=True, description=' ', layout=Layout(width='auto')), Outpu…"
      ]
     },
     "metadata": {},
     "output_type": "display_data"
    },
    {
     "data": {
      "application/vnd.jupyter.widget-view+json": {
       "model_id": "4331ded291c24df5b21081b7887161cc",
       "version_major": 2,
       "version_minor": 0
      },
      "text/plain": [
       "HBox(children=(ColorPicker(value='#e60000', concise=True, description=' ', layout=Layout(width='auto')), Outpu…"
      ]
     },
     "metadata": {},
     "output_type": "display_data"
    },
    {
     "data": {
      "application/vnd.jupyter.widget-view+json": {
       "model_id": "1042b0cdc8fb44d19a373acac85f190d",
       "version_major": 2,
       "version_minor": 0
      },
      "text/plain": [
       "HBox(children=(ColorPicker(value='#cc0000', concise=True, description=' ', layout=Layout(width='auto')), Outpu…"
      ]
     },
     "metadata": {},
     "output_type": "display_data"
    },
    {
     "data": {
      "application/vnd.jupyter.widget-view+json": {
       "model_id": "558906434cab47f6b6b2ddac621fd4af",
       "version_major": 2,
       "version_minor": 0
      },
      "text/plain": [
       "HBox(children=(ColorPicker(value='#b20000', concise=True, description=' ', layout=Layout(width='auto')), Outpu…"
      ]
     },
     "metadata": {},
     "output_type": "display_data"
    },
    {
     "data": {
      "application/vnd.jupyter.widget-view+json": {
       "model_id": "7b7c4c1cec744cfb9e0ef8727b1e4cdc",
       "version_major": 2,
       "version_minor": 0
      },
      "text/plain": [
       "HBox(children=(ColorPicker(value='#990000', concise=True, description=' ', layout=Layout(width='auto')), Outpu…"
      ]
     },
     "metadata": {},
     "output_type": "display_data"
    },
    {
     "data": {
      "application/vnd.jupyter.widget-view+json": {
       "model_id": "3a225d16aa544dfe8b9ce0e3feb2e5a2",
       "version_major": 2,
       "version_minor": 0
      },
      "text/plain": [
       "HBox(children=(ColorPicker(value='#800000', concise=True, description=' ', layout=Layout(width='auto')), Outpu…"
      ]
     },
     "metadata": {},
     "output_type": "display_data"
    },
    {
     "data": {
      "application/vnd.jupyter.widget-view+json": {
       "model_id": "101dcc14e8f748c7bfb0b74eb2eabd19",
       "version_major": 2,
       "version_minor": 0
      },
      "text/plain": [
       "HBox(children=(ColorPicker(value='#660000', concise=True, description=' ', layout=Layout(width='auto')), Outpu…"
      ]
     },
     "metadata": {},
     "output_type": "display_data"
    },
    {
     "data": {
      "application/vnd.jupyter.widget-view+json": {
       "model_id": "8bdfd0ea9c7d46628fc210674aa8b16d",
       "version_major": 2,
       "version_minor": 0
      },
      "text/plain": [
       "HBox(children=(ColorPicker(value='#4c0000', concise=True, description=' ', layout=Layout(width='auto')), Outpu…"
      ]
     },
     "metadata": {},
     "output_type": "display_data"
    },
    {
     "data": {
      "application/vnd.jupyter.widget-view+json": {
       "model_id": "701bedf4fb1a41eca50baf42fab6a2ad",
       "version_major": 2,
       "version_minor": 0
      },
      "text/plain": [
       "HBox(children=(ColorPicker(value='#330000', concise=True, description=' ', layout=Layout(width='auto')), Outpu…"
      ]
     },
     "metadata": {},
     "output_type": "display_data"
    },
    {
     "data": {
      "application/vnd.jupyter.widget-view+json": {
       "model_id": "b2befa1b4fd64bba9a19089f2ecad5fe",
       "version_major": 2,
       "version_minor": 0
      },
      "text/plain": [
       "HBox(children=(ColorPicker(value='#190000', concise=True, description=' ', layout=Layout(width='auto')), Outpu…"
      ]
     },
     "metadata": {},
     "output_type": "display_data"
    },
    {
     "data": {
      "text/plain": [
       "Text(0, 0.5, 'ΔAbs')"
      ]
     },
     "execution_count": 13,
     "metadata": {},
     "output_type": "execute_result"
    }
   ],
   "source": [
    "# subtract base\n",
    "base = aPlot.df.iloc[:,[0]]\n",
    "aPlot.df = aPlot.df - base.values\n",
    "\n",
    "# plot in a new figure\n",
    "aPlot.axis = plt.figure().gca()\n",
    "aPlot.plot()\n",
    "aPlot.plot_interactive_buttons()\n",
    "\n",
    "aPlot.axis.set_xlim([350, 1100])\n",
    "aPlot.axis.set_ylim([-0.02, 0.15])\n",
    "aPlot.axis.set_title('Titration: PIsnB + 4Fe + 4TyrNC + n*0.5aKG')\n",
    "aPlot.axis.set_xlabel('wavelength (nm)')\n",
    "aPlot.axis.set_ylabel('ΔAbs')"
   ]
  },
  {
   "cell_type": "markdown",
   "metadata": {},
   "source": [
    "## remove baseline shift"
   ]
  },
  {
   "cell_type": "code",
   "execution_count": 14,
   "metadata": {},
   "outputs": [
    {
     "data": {
      "application/vnd.jupyter.widget-view+json": {
       "model_id": "47e7cbc8e77943e793a4ddd2e96bad5a",
       "version_major": 2,
       "version_minor": 0
      },
      "text/plain": [
       "Canvas(toolbar=Toolbar(toolitems=[('Home', 'Reset original view', 'home', 'home'), ('Back', 'Back to previous …"
      ]
     },
     "metadata": {},
     "output_type": "display_data"
    },
    {
     "data": {
      "application/vnd.jupyter.widget-view+json": {
       "model_id": "b240888668124983a29b40608c3889b5",
       "version_major": 2,
       "version_minor": 0
      },
      "text/plain": [
       "HBox(children=(ColorPicker(value='#ff0000', concise=True, description=' ', layout=Layout(width='auto')), Outpu…"
      ]
     },
     "metadata": {},
     "output_type": "display_data"
    },
    {
     "data": {
      "application/vnd.jupyter.widget-view+json": {
       "model_id": "e505ecae478c4eb4bc5726c335d33086",
       "version_major": 2,
       "version_minor": 0
      },
      "text/plain": [
       "HBox(children=(ColorPicker(value='#e60000', concise=True, description=' ', layout=Layout(width='auto')), Outpu…"
      ]
     },
     "metadata": {},
     "output_type": "display_data"
    },
    {
     "data": {
      "application/vnd.jupyter.widget-view+json": {
       "model_id": "466d07ba1a904b3f813b5b25e352ba2f",
       "version_major": 2,
       "version_minor": 0
      },
      "text/plain": [
       "HBox(children=(ColorPicker(value='#cc0000', concise=True, description=' ', layout=Layout(width='auto')), Outpu…"
      ]
     },
     "metadata": {},
     "output_type": "display_data"
    },
    {
     "data": {
      "application/vnd.jupyter.widget-view+json": {
       "model_id": "93099b834b114973b0388d8ff0791a75",
       "version_major": 2,
       "version_minor": 0
      },
      "text/plain": [
       "HBox(children=(ColorPicker(value='#b20000', concise=True, description=' ', layout=Layout(width='auto')), Outpu…"
      ]
     },
     "metadata": {},
     "output_type": "display_data"
    },
    {
     "data": {
      "application/vnd.jupyter.widget-view+json": {
       "model_id": "4c31c852583a45f2836f8daced226b5c",
       "version_major": 2,
       "version_minor": 0
      },
      "text/plain": [
       "HBox(children=(ColorPicker(value='#990000', concise=True, description=' ', layout=Layout(width='auto')), Outpu…"
      ]
     },
     "metadata": {},
     "output_type": "display_data"
    },
    {
     "data": {
      "application/vnd.jupyter.widget-view+json": {
       "model_id": "87f241a3f4a74b4ca9187f475071b666",
       "version_major": 2,
       "version_minor": 0
      },
      "text/plain": [
       "HBox(children=(ColorPicker(value='#800000', concise=True, description=' ', layout=Layout(width='auto')), Outpu…"
      ]
     },
     "metadata": {},
     "output_type": "display_data"
    },
    {
     "data": {
      "application/vnd.jupyter.widget-view+json": {
       "model_id": "a18216d03fc9433eb2c564e78d3fb175",
       "version_major": 2,
       "version_minor": 0
      },
      "text/plain": [
       "HBox(children=(ColorPicker(value='#660000', concise=True, description=' ', layout=Layout(width='auto')), Outpu…"
      ]
     },
     "metadata": {},
     "output_type": "display_data"
    },
    {
     "data": {
      "application/vnd.jupyter.widget-view+json": {
       "model_id": "646df86fe7bf42359a7672bf9db7db3e",
       "version_major": 2,
       "version_minor": 0
      },
      "text/plain": [
       "HBox(children=(ColorPicker(value='#4c0000', concise=True, description=' ', layout=Layout(width='auto')), Outpu…"
      ]
     },
     "metadata": {},
     "output_type": "display_data"
    },
    {
     "data": {
      "application/vnd.jupyter.widget-view+json": {
       "model_id": "0deb129929794894840d4c4384d5ba82",
       "version_major": 2,
       "version_minor": 0
      },
      "text/plain": [
       "HBox(children=(ColorPicker(value='#330000', concise=True, description=' ', layout=Layout(width='auto')), Outpu…"
      ]
     },
     "metadata": {},
     "output_type": "display_data"
    },
    {
     "data": {
      "application/vnd.jupyter.widget-view+json": {
       "model_id": "7c07967b7d014473afe6ed5fc3a169c0",
       "version_major": 2,
       "version_minor": 0
      },
      "text/plain": [
       "HBox(children=(ColorPicker(value='#190000', concise=True, description=' ', layout=Layout(width='auto')), Outpu…"
      ]
     },
     "metadata": {},
     "output_type": "display_data"
    },
    {
     "data": {
      "text/plain": [
       "Text(0, 0.5, 'ΔAbs')"
      ]
     },
     "execution_count": 14,
     "metadata": {},
     "output_type": "execute_result"
    }
   ],
   "source": [
    "# subtract base\n",
    "base = aPlot.df.iloc[:,[0]]\n",
    "aPlot.df = aPlot.df - base.values\n",
    "\n",
    "# remove baseline shift\n",
    "aPlot.shifts = shift_to_align_wavelength(aPlot.df, wavelength=800)\n",
    "\n",
    "# plot in a new figure\n",
    "aPlot.axis = plt.figure().gca()\n",
    "aPlot.plot()\n",
    "aPlot.plot_interactive_buttons()\n",
    "\n",
    "aPlot.axis.set_xlim([350, 1100])\n",
    "aPlot.axis.set_ylim([-0.02, 0.12])\n",
    "aPlot.axis.set_title('Titration: PIsnB + 4Fe + 4TyrNC + n*0.5aKG')\n",
    "aPlot.axis.set_xlabel('wavelength (nm)')\n",
    "aPlot.axis.set_ylabel('ΔAbs')"
   ]
  },
  {
   "cell_type": "markdown",
   "metadata": {},
   "source": [
    "## plot trend at certain x value"
   ]
  },
  {
   "cell_type": "code",
   "execution_count": 15,
   "metadata": {},
   "outputs": [
    {
     "data": {
      "application/vnd.jupyter.widget-view+json": {
       "model_id": "39073237300345e997c93b5629732983",
       "version_major": 2,
       "version_minor": 0
      },
      "text/plain": [
       "Canvas(toolbar=Toolbar(toolitems=[('Home', 'Reset original view', 'home', 'home'), ('Back', 'Back to previous …"
      ]
     },
     "metadata": {},
     "output_type": "display_data"
    },
    {
     "data": {
      "application/vnd.jupyter.widget-view+json": {
       "model_id": "da908e5eaafe43ffb6470aa3c4d8b47e",
       "version_major": 2,
       "version_minor": 0
      },
      "text/plain": [
       "HBox(children=(ColorPicker(value='#000000', concise=True, description=' ', layout=Layout(width='auto')), Outpu…"
      ]
     },
     "metadata": {},
     "output_type": "display_data"
    },
    {
     "data": {
      "text/plain": [
       "Text(0, 0.5, 'ΔAbs at 512 nm')"
      ]
     },
     "execution_count": 15,
     "metadata": {},
     "output_type": "execute_result"
    }
   ],
   "source": [
    "df_trace512 = aPlot.df.iloc[[get_index_of_closest_x_value(aPlot.df, 512)], :].transpose()\n",
    "df_trace512.index =  [0.5*i for i in range(len(uv_filenames))]\n",
    "trace512Plot = AdjustablePlot.quickload_df(df_trace512)\n",
    "trace512Plot.plot()\n",
    "trace512Plot.plot_interactive_buttons()\n",
    "\n",
    "\n",
    "trace512Plot.axis.lines[0].set_marker('o')\n",
    "\n",
    "trace512Plot.axis.legend().set_draggable(True)\n",
    "trace512Plot.axis.set_xlabel('equivalent of aKG')\n",
    "trace512Plot.axis.set_ylabel('ΔAbs at 512 nm')"
   ]
  },
  {
   "cell_type": "markdown",
   "metadata": {},
   "source": [
    "# Appendix: more options"
   ]
  },
  {
   "cell_type": "code",
   "execution_count": 16,
   "metadata": {},
   "outputs": [],
   "source": [
    "# global settings\n",
    "# two semantics are equivalent\n",
    "# more options can be found at https://matplotlib.org/users/customizing.html\n",
    "# set figure size\n",
    "rcParams['figure.figsize'] = [9, 4.5]\n",
    "# set tick pointing inwards or outwards\n",
    "rcParams['xtick.direction'] = 'in'\n",
    "rcParams['ytick.direction'] = 'in'\n",
    "# set visibility of minor ticks\n",
    "rcParams['xtick.minor.visible'] = True\n",
    "rcParams['ytick.minor.visible'] = True\n",
    "# set ticks on top and right axes\n",
    "rcParams['xtick.top'] = True\n",
    "rcParams['ytick.right'] = True\n",
    "# set better layout for multiple plots in a figure\n",
    "# https://matplotlib.org/3.1.1/tutorials/intermediate/tight_layout_guide.html\n",
    "rcParams.update({'figure.autolayout': True})\n",
    "# set x and y label size\n",
    "rcParams.update({'axes.labelsize': 20})\n",
    "# set tick label size\n",
    "rcParams.update({'xtick.labelsize': 12})\n",
    "rcParams.update({'ytick.labelsize': 12})\n",
    "# turn on/off frame of legend box\n",
    "rcParams.update({'legend.frameon': False})\n",
    "# set legend fontsize\n",
    "rcParams.update({'legend.fontsize': 10})"
   ]
  },
  {
   "cell_type": "code",
   "execution_count": null,
   "metadata": {},
   "outputs": [],
   "source": []
  }
 ],
 "metadata": {
  "kernelspec": {
   "display_name": "Python 3",
   "language": "python",
   "name": "python3"
  },
  "language_info": {
   "codemirror_mode": {
    "name": "ipython",
    "version": 3
   },
   "file_extension": ".py",
   "mimetype": "text/x-python",
   "name": "python",
   "nbconvert_exporter": "python",
   "pygments_lexer": "ipython3",
   "version": "3.6.9"
  },
  "toc": {
   "base_numbering": 1,
   "nav_menu": {},
   "number_sections": true,
   "sideBar": true,
   "skip_h1_title": false,
   "title_cell": "Table of Contents",
   "title_sidebar": "Contents",
   "toc_cell": false,
   "toc_position": {
    "height": "calc(100% - 180px)",
    "left": "10px",
    "top": "150px",
    "width": "278.594px"
   },
   "toc_section_display": true,
   "toc_window_display": true
  },
  "varInspector": {
   "cols": {
    "lenName": 16,
    "lenType": 16,
    "lenVar": 40
   },
   "kernels_config": {
    "python": {
     "delete_cmd_postfix": "",
     "delete_cmd_prefix": "del ",
     "library": "var_list.py",
     "varRefreshCmd": "print(var_dic_list())"
    },
    "r": {
     "delete_cmd_postfix": ") ",
     "delete_cmd_prefix": "rm(",
     "library": "var_list.r",
     "varRefreshCmd": "cat(var_dic_list()) "
    }
   },
   "types_to_exclude": [
    "module",
    "function",
    "builtin_function_or_method",
    "instance",
    "_Feature"
   ],
   "window_display": false
  },
  "widgets": {
   "application/vnd.jupyter.widget-state+json": {
    "state": {
     "01a9eef9f4554d19a7d6367a18b022f5": {
      "model_module": "@jupyter-widgets/base",
      "model_module_version": "1.1.0",
      "model_name": "LayoutModel",
      "state": {}
     },
     "023ebe60890f4796b0cd88d50d84edf5": {
      "model_module": "@jupyter-widgets/controls",
      "model_module_version": "1.4.0",
      "model_name": "DescriptionStyleModel",
      "state": {
       "description_width": ""
      }
     },
     "02b660541cf1404a81420bdc69a9b128": {
      "model_module": "@jupyter-widgets/controls",
      "model_module_version": "1.4.0",
      "model_name": "DescriptionStyleModel",
      "state": {
       "description_width": ""
      }
     },
     "099ee4aabd9f4094bfd4a1e2c92078c9": {
      "model_module": "@jupyter-widgets/base",
      "model_module_version": "1.1.0",
      "model_name": "LayoutModel",
      "state": {}
     },
     "0a7ee4dfadec49c6810a3c10c898932f": {
      "model_module": "@jupyter-widgets/controls",
      "model_module_version": "1.4.0",
      "model_name": "DescriptionStyleModel",
      "state": {
       "description_width": ""
      }
     },
     "0b3dbaf3b85b440680fa524a2fa8198c": {
      "model_module": "@jupyter-widgets/controls",
      "model_module_version": "1.4.0",
      "model_name": "PlayModel",
      "state": {
       "description": "Press play",
       "layout": "IPY_MODEL_7e8de31e79744f83a746fc14b76ef6e9",
       "max": 10,
       "step": 0,
       "style": "IPY_MODEL_e90a9cc65ad74880a64bb9906d2b2095"
      }
     },
     "0e87518dbdd148179370cb72c047534c": {
      "model_module": "@jupyter-widgets/controls",
      "model_module_version": "1.4.0",
      "model_name": "DescriptionStyleModel",
      "state": {
       "description_width": ""
      }
     },
     "0fa50c07ff0549d5a549aea74459210b": {
      "model_module": "@jupyter-widgets/base",
      "model_module_version": "1.1.0",
      "model_name": "LayoutModel",
      "state": {}
     },
     "1061e3473415499d8e5385a197d12996": {
      "model_module": "@jupyter-widgets/controls",
      "model_module_version": "1.4.0",
      "model_name": "PlayModel",
      "state": {
       "description": "Press play",
       "layout": "IPY_MODEL_cb831d072f6044038fdc92130db29440",
       "max": 10,
       "step": 0,
       "style": "IPY_MODEL_11be0565feea44dd846d189c5ffe971d"
      }
     },
     "11be0565feea44dd846d189c5ffe971d": {
      "model_module": "@jupyter-widgets/controls",
      "model_module_version": "1.4.0",
      "model_name": "DescriptionStyleModel",
      "state": {
       "description_width": ""
      }
     },
     "11e9b4f0a67148a5af76c7ed20506a6d": {
      "model_module": "@jupyter-widgets/base",
      "model_module_version": "1.1.0",
      "model_name": "LayoutModel",
      "state": {}
     },
     "137d8fc5eac2460286fe997b205c5923": {
      "model_module": "@jupyter-widgets/controls",
      "model_module_version": "1.4.0",
      "model_name": "DescriptionStyleModel",
      "state": {
       "description_width": ""
      }
     },
     "141c0a7a503d4917a822ea641c653a9c": {
      "model_module": "@jupyter-widgets/controls",
      "model_module_version": "1.4.0",
      "model_name": "SliderStyleModel",
      "state": {
       "description_width": ""
      }
     },
     "15154e89612943b780b09fae9a9744f8": {
      "model_module": "@jupyter-widgets/base",
      "model_module_version": "1.1.0",
      "model_name": "LayoutModel",
      "state": {}
     },
     "1608b950db94461ba3bb12b8b9888b60": {
      "model_module": "@jupyter-widgets/base",
      "model_module_version": "1.1.0",
      "model_name": "LayoutModel",
      "state": {}
     },
     "16dc0dfba683467c9e6adf96ea6e3722": {
      "model_module": "@jupyter-widgets/controls",
      "model_module_version": "1.4.0",
      "model_name": "BoundedFloatTextModel",
      "state": {
       "continuous_update": true,
       "description": "shift",
       "layout": "IPY_MODEL_c8d19e07f5b9461b8f2a8f643377e699",
       "max": 10,
       "min": -10,
       "step": 0.05,
       "style": "IPY_MODEL_02b660541cf1404a81420bdc69a9b128"
      }
     },
     "1705d4b6354444ec9d54b40e14bb7a66": {
      "model_module": "@jupyter-widgets/base",
      "model_module_version": "1.1.0",
      "model_name": "LayoutModel",
      "state": {}
     },
     "1998a2b7b7d84312bd49ef408e1026fb": {
      "model_module": "@jupyter-widgets/controls",
      "model_module_version": "1.4.0",
      "model_name": "SliderStyleModel",
      "state": {
       "description_width": ""
      }
     },
     "1b5af7141c4943ee93ce39fb390ab444": {
      "model_module": "@jupyter-widgets/controls",
      "model_module_version": "1.4.0",
      "model_name": "VBoxModel",
      "state": {
       "_dom_classes": [
        "widget-interact"
       ],
       "children": [
        "IPY_MODEL_5557ce88077a484cb3032f61576b46bf",
        "IPY_MODEL_86f160149a3742588a5639aab531ca04"
       ],
       "layout": "IPY_MODEL_4d6cda3299dd4541a58788bd246f596e"
      }
     },
     "1cfee04cd8c64f3ba65173abf8e875e3": {
      "model_module": "@jupyter-widgets/controls",
      "model_module_version": "1.4.0",
      "model_name": "BoundedFloatTextModel",
      "state": {
       "continuous_update": true,
       "description": "shift",
       "layout": "IPY_MODEL_dc0f659dcd4e4fb28c48585e1a7f481a",
       "max": 10,
       "min": -10,
       "step": 0.05,
       "style": "IPY_MODEL_3a067627c9d44ebf915876b7808868aa"
      }
     },
     "1e3b60a0c64141048722149f53294140": {
      "model_module": "@jupyter-widgets/controls",
      "model_module_version": "1.4.0",
      "model_name": "DescriptionStyleModel",
      "state": {
       "description_width": ""
      }
     },
     "2044bdf936b54da0a3d2a2a34608ab04": {
      "model_module": "@jupyter-widgets/controls",
      "model_module_version": "1.4.0",
      "model_name": "DescriptionStyleModel",
      "state": {
       "description_width": ""
      }
     },
     "221ce5687e77483c947db76b9577ca89": {
      "model_module": "@jupyter-widgets/base",
      "model_module_version": "1.1.0",
      "model_name": "LayoutModel",
      "state": {}
     },
     "2261611f3829461aafd0eec001b084c2": {
      "model_module": "@jupyter-widgets/base",
      "model_module_version": "1.1.0",
      "model_name": "LayoutModel",
      "state": {}
     },
     "235e3867d1c14de4ab3b5cf43a887a5f": {
      "model_module": "@jupyter-widgets/base",
      "model_module_version": "1.1.0",
      "model_name": "LayoutModel",
      "state": {}
     },
     "23fe20aa397844efbbc236c070ba09f5": {
      "model_module": "@jupyter-widgets/controls",
      "model_module_version": "1.4.0",
      "model_name": "DescriptionStyleModel",
      "state": {
       "description_width": ""
      }
     },
     "24870e12263c430a9fc5a060a6cfb615": {
      "model_module": "@jupyter-widgets/controls",
      "model_module_version": "1.4.0",
      "model_name": "HBoxModel",
      "state": {
       "children": [
        "IPY_MODEL_8a5effb1a25547df9fc2ef149ad95b4e",
        "IPY_MODEL_5557ce88077a484cb3032f61576b46bf"
       ],
       "layout": "IPY_MODEL_6efbdb832517415a9bc7858500ccc3c8"
      }
     },
     "249afaaa9d74434a9b9419c11399e137": {
      "model_module": "@jupyter-widgets/base",
      "model_module_version": "1.1.0",
      "model_name": "LayoutModel",
      "state": {}
     },
     "249b12c0793b4bc0a0aab62049d0a0de": {
      "model_module": "@jupyter-widgets/controls",
      "model_module_version": "1.4.0",
      "model_name": "SliderStyleModel",
      "state": {
       "description_width": ""
      }
     },
     "24d75999193c4c7eb32734d46483dc70": {
      "model_module": "@jupyter-widgets/base",
      "model_module_version": "1.1.0",
      "model_name": "LayoutModel",
      "state": {}
     },
     "258f6f3e68ee4843be61c706611445ac": {
      "model_module": "@jupyter-widgets/controls",
      "model_module_version": "1.4.0",
      "model_name": "BoundedFloatTextModel",
      "state": {
       "continuous_update": true,
       "description": "scale",
       "layout": "IPY_MODEL_d261efebceb242d086667ca7b24df939",
       "max": 10,
       "step": 0.05,
       "style": "IPY_MODEL_1e3b60a0c64141048722149f53294140",
       "value": 1
      }
     },
     "2767a5cbcf9f4140b9e2a48907989cf9": {
      "model_module": "@jupyter-widgets/controls",
      "model_module_version": "1.4.0",
      "model_name": "DescriptionStyleModel",
      "state": {
       "description_width": ""
      }
     },
     "27f875a82db745cfa35b51efca728b38": {
      "model_module": "@jupyter-widgets/controls",
      "model_module_version": "1.4.0",
      "model_name": "PlayModel",
      "state": {
       "description": "Press play",
       "layout": "IPY_MODEL_7c1cd5fb33d84406ab2c7cccd9e1b4e1",
       "max": 10,
       "step": 0,
       "style": "IPY_MODEL_fa7ded9b86b6402d9167c4757819a706"
      }
     },
     "2a177ae5d17641b09c34e3d9b8202df8": {
      "model_module": "@jupyter-widgets/controls",
      "model_module_version": "1.4.0",
      "model_name": "BoundedFloatTextModel",
      "state": {
       "continuous_update": true,
       "description": "shift",
       "layout": "IPY_MODEL_2ae7a1b363714f009bfa87bf265ae69c",
       "max": 10,
       "min": -10,
       "step": 0.05,
       "style": "IPY_MODEL_a958e0a3b2e642f2815ed9a3803149b8"
      }
     },
     "2a4d71f2be724e04a26095e6ed249beb": {
      "model_module": "@jupyter-widgets/base",
      "model_module_version": "1.1.0",
      "model_name": "LayoutModel",
      "state": {}
     },
     "2ae7a1b363714f009bfa87bf265ae69c": {
      "model_module": "@jupyter-widgets/base",
      "model_module_version": "1.1.0",
      "model_name": "LayoutModel",
      "state": {}
     },
     "2c5c023d3d4d4529a8f17e6e7c05e388": {
      "model_module": "@jupyter-widgets/controls",
      "model_module_version": "1.4.0",
      "model_name": "VBoxModel",
      "state": {
       "_dom_classes": [
        "widget-interact"
       ],
       "children": [
        "IPY_MODEL_88fc037b0b894010b8548739d588ff5b",
        "IPY_MODEL_a0ba108c66a5421b8154da174e01ecb7"
       ],
       "layout": "IPY_MODEL_24d75999193c4c7eb32734d46483dc70"
      }
     },
     "2d83bdb49d8c4eb696d85f34564f144c": {
      "model_module": "@jupyter-widgets/controls",
      "model_module_version": "1.4.0",
      "model_name": "LinkModel",
      "state": {
       "source": [
        "IPY_MODEL_95169b24ec874e1bb7195589954bed65",
        "value"
       ],
       "target": [
        "IPY_MODEL_40b25712f9024ee8a44e7cff4cc92b22",
        "value"
       ]
      }
     },
     "2d864929e489450b8fcdb25fcdcd0f2d": {
      "model_module": "@jupyter-widgets/base",
      "model_module_version": "1.1.0",
      "model_name": "LayoutModel",
      "state": {}
     },
     "30f76a3a36c24820a500d4db07aa0661": {
      "model_module": "@jupyter-widgets/controls",
      "model_module_version": "1.4.0",
      "model_name": "DescriptionStyleModel",
      "state": {
       "description_width": ""
      }
     },
     "32d8d8a0412440ae87f2e6b874df7773": {
      "model_module": "@jupyter-widgets/controls",
      "model_module_version": "1.4.0",
      "model_name": "VBoxModel",
      "state": {
       "_dom_classes": [
        "widget-interact"
       ],
       "children": [
        "IPY_MODEL_5557ce88077a484cb3032f61576b46bf",
        "IPY_MODEL_3f5e1808864b48258cb7f3fc978c8211"
       ],
       "layout": "IPY_MODEL_cb0a00258a914b60a041927a61a2b2ca"
      }
     },
     "33b3f66bd73945cda04f2d594eb44f36": {
      "model_module": "@jupyter-widgets/controls",
      "model_module_version": "1.4.0",
      "model_name": "PlayModel",
      "state": {
       "description": "Press play",
       "layout": "IPY_MODEL_a84bee51e92245c9901ced10653376b1",
       "max": 10,
       "step": 0,
       "style": "IPY_MODEL_b88901658d02478eb2afb11330fce6f6"
      }
     },
     "3501b00fe92e404eb5719c80c7584b3f": {
      "model_module": "@jupyter-widgets/controls",
      "model_module_version": "1.4.0",
      "model_name": "DescriptionStyleModel",
      "state": {
       "description_width": ""
      }
     },
     "3520a0b869f944a5a28265b0d2cdf48d": {
      "model_module": "@jupyter-widgets/controls",
      "model_module_version": "1.4.0",
      "model_name": "DescriptionStyleModel",
      "state": {
       "description_width": ""
      }
     },
     "35850e932b8d4dc487b527c33f6636de": {
      "model_module": "@jupyter-widgets/controls",
      "model_module_version": "1.4.0",
      "model_name": "DescriptionStyleModel",
      "state": {
       "description_width": ""
      }
     },
     "3a067627c9d44ebf915876b7808868aa": {
      "model_module": "@jupyter-widgets/controls",
      "model_module_version": "1.4.0",
      "model_name": "DescriptionStyleModel",
      "state": {
       "description_width": ""
      }
     },
     "3a70787205a44bf787f06bd4c4e3a324": {
      "model_module": "@jupyter-widgets/base",
      "model_module_version": "1.1.0",
      "model_name": "LayoutModel",
      "state": {}
     },
     "3bc17df8d0354e17ab2f44a94f27cb4f": {
      "model_module": "@jupyter-widgets/controls",
      "model_module_version": "1.4.0",
      "model_name": "DescriptionStyleModel",
      "state": {
       "description_width": ""
      }
     },
     "3eb089c4d70d4da5bca3045ff13f86b5": {
      "model_module": "@jupyter-widgets/base",
      "model_module_version": "1.1.0",
      "model_name": "LayoutModel",
      "state": {}
     },
     "3ec15776a50841e7b8dc996c0cdf47a3": {
      "model_module": "@jupyter-widgets/controls",
      "model_module_version": "1.4.0",
      "model_name": "BoundedFloatTextModel",
      "state": {
       "continuous_update": true,
       "description": "scale",
       "layout": "IPY_MODEL_2a4d71f2be724e04a26095e6ed249beb",
       "max": 10,
       "step": 0.05,
       "style": "IPY_MODEL_23fe20aa397844efbbc236c070ba09f5",
       "value": 1
      }
     },
     "3f5e1808864b48258cb7f3fc978c8211": {
      "model_module": "@jupyter-widgets/output",
      "model_module_version": "1.0.0",
      "model_name": "OutputModel",
      "state": {
       "layout": "IPY_MODEL_75389862fb7b41cb86f784c20d30c9e0"
      }
     },
     "3fd005108fcd49efab70bc54e50919a3": {
      "model_module": "@jupyter-widgets/controls",
      "model_module_version": "1.4.0",
      "model_name": "SliderStyleModel",
      "state": {
       "description_width": ""
      }
     },
     "403d8da8ec4e430c89aeb3703787d91a": {
      "model_module": "@jupyter-widgets/controls",
      "model_module_version": "1.4.0",
      "model_name": "BoundedFloatTextModel",
      "state": {
       "continuous_update": true,
       "description": "scale",
       "layout": "IPY_MODEL_6641a0d603464ef7b2702dabdfa4044e",
       "max": 10,
       "step": 0.05,
       "style": "IPY_MODEL_137d8fc5eac2460286fe997b205c5923",
       "value": 1
      }
     },
     "40a59168d4574f58b98e4d657d90db11": {
      "model_module": "@jupyter-widgets/controls",
      "model_module_version": "1.4.0",
      "model_name": "ColorPickerModel",
      "state": {
       "description": "line 4 color",
       "disabled": false,
       "layout": "IPY_MODEL_099ee4aabd9f4094bfd4a1e2c92078c9",
       "style": "IPY_MODEL_0a7ee4dfadec49c6810a3c10c898932f",
       "value": "cyan"
      }
     },
     "40b25712f9024ee8a44e7cff4cc92b22": {
      "model_module": "@jupyter-widgets/controls",
      "model_module_version": "1.4.0",
      "model_name": "PlayModel",
      "state": {
       "description": "Press play",
       "layout": "IPY_MODEL_2261611f3829461aafd0eec001b084c2",
       "max": 725,
       "min": 182,
       "step": 2,
       "style": "IPY_MODEL_dd7a0f835dd8492dbe445496d02184ff",
       "value": 350
      }
     },
     "41924a3e5c4a48b0a2c38e83a6c9d25d": {
      "model_module": "@jupyter-widgets/output",
      "model_module_version": "1.0.0",
      "model_name": "OutputModel",
      "state": {
       "layout": "IPY_MODEL_7151445b16974898a35f31207be0e334"
      }
     },
     "44c8d645406742d1bc8da459b12f5aa8": {
      "model_module": "@jupyter-widgets/base",
      "model_module_version": "1.1.0",
      "model_name": "LayoutModel",
      "state": {}
     },
     "4511e03c2d5c498e9acce78a814efb9b": {
      "model_module": "@jupyter-widgets/controls",
      "model_module_version": "1.4.0",
      "model_name": "BoundedFloatTextModel",
      "state": {
       "continuous_update": true,
       "description": "scale",
       "layout": "IPY_MODEL_83216da757434025b67e066b8d6c4a43",
       "max": 10,
       "step": 0.05,
       "style": "IPY_MODEL_8a09ff51ccfd4bb9a627c227b20dbbe8",
       "value": 1
      }
     },
     "486ec95dad72434996f13af104821459": {
      "model_module": "@jupyter-widgets/base",
      "model_module_version": "1.1.0",
      "model_name": "LayoutModel",
      "state": {}
     },
     "4b7c2ad8d51742f09a8effa417566f62": {
      "model_module": "@jupyter-widgets/base",
      "model_module_version": "1.1.0",
      "model_name": "LayoutModel",
      "state": {}
     },
     "4bf1e1da56a14d10bc834230922ae00b": {
      "model_module": "@jupyter-widgets/controls",
      "model_module_version": "1.4.0",
      "model_name": "SliderStyleModel",
      "state": {
       "description_width": ""
      }
     },
     "4c4e133cd81d4aeba274637282a259c9": {
      "model_module": "@jupyter-widgets/controls",
      "model_module_version": "1.4.0",
      "model_name": "FloatSliderModel",
      "state": {
       "description": "input (nm)",
       "layout": "IPY_MODEL_d50fa43b2f584ff2a8a2d26c3780d991",
       "max": 725.853,
       "min": 182.056,
       "step": 2.1242070312499997,
       "style": "IPY_MODEL_249b12c0793b4bc0a0aab62049d0a0de",
       "value": 500
      }
     },
     "4d6cda3299dd4541a58788bd246f596e": {
      "model_module": "@jupyter-widgets/base",
      "model_module_version": "1.1.0",
      "model_name": "LayoutModel",
      "state": {}
     },
     "509a20a6aa33490a98c971a483266324": {
      "model_module": "@jupyter-widgets/base",
      "model_module_version": "1.1.0",
      "model_name": "LayoutModel",
      "state": {}
     },
     "524131a40cde47a1ac506bd159682052": {
      "model_module": "@jupyter-widgets/controls",
      "model_module_version": "1.4.0",
      "model_name": "VBoxModel",
      "state": {
       "_dom_classes": [
        "widget-interact"
       ],
       "children": [
        "IPY_MODEL_5557ce88077a484cb3032f61576b46bf",
        "IPY_MODEL_f36a8db5ad43410d955274b7a4a7afff"
       ],
       "layout": "IPY_MODEL_235e3867d1c14de4ab3b5cf43a887a5f"
      }
     },
     "5304d0d3ddad4ae387763af84260b410": {
      "model_module": "@jupyter-widgets/controls",
      "model_module_version": "1.4.0",
      "model_name": "BoundedFloatTextModel",
      "state": {
       "continuous_update": true,
       "description": "shift",
       "layout": "IPY_MODEL_249afaaa9d74434a9b9419c11399e137",
       "max": 10,
       "min": -10,
       "step": 0.05,
       "style": "IPY_MODEL_75e327eff3894da185ed512f4ca2f095"
      }
     },
     "53c5edaa1d7d427ab106bb60c5aac58e": {
      "model_module": "@jupyter-widgets/controls",
      "model_module_version": "1.4.0",
      "model_name": "DescriptionStyleModel",
      "state": {
       "description_width": ""
      }
     },
     "5557ce88077a484cb3032f61576b46bf": {
      "model_module": "@jupyter-widgets/controls",
      "model_module_version": "1.4.0",
      "model_name": "FloatSliderModel",
      "state": {
       "description": "input (nm)",
       "layout": "IPY_MODEL_7eba594e65744b079a91589ac07e0f16",
       "max": 725.853,
       "min": 182.056,
       "step": 2.1242070312499997,
       "style": "IPY_MODEL_1998a2b7b7d84312bd49ef408e1026fb",
       "value": 432
      }
     },
     "569d6052c55441b88f72f1d268ad0b25": {
      "model_module": "@jupyter-widgets/controls",
      "model_module_version": "1.4.0",
      "model_name": "LinkModel",
      "state": {
       "source": [
        "IPY_MODEL_4c4e133cd81d4aeba274637282a259c9",
        "value"
       ],
       "target": [
        "IPY_MODEL_b819c00baedb45f4b5c6426fc0854d87",
        "value"
       ]
      }
     },
     "5ddda5d3efb540259e54fbf3656008fd": {
      "model_module": "@jupyter-widgets/base",
      "model_module_version": "1.1.0",
      "model_name": "LayoutModel",
      "state": {}
     },
     "5e61017971ec4266a4beb111bbbb50a8": {
      "model_module": "@jupyter-widgets/base",
      "model_module_version": "1.1.0",
      "model_name": "LayoutModel",
      "state": {}
     },
     "5e9617f4fe4a403181a52ad266db0114": {
      "model_module": "@jupyter-widgets/controls",
      "model_module_version": "1.4.0",
      "model_name": "ColorPickerModel",
      "state": {
       "description": "line 1 color",
       "disabled": false,
       "layout": "IPY_MODEL_221ce5687e77483c947db76b9577ca89",
       "style": "IPY_MODEL_3bc17df8d0354e17ab2f44a94f27cb4f",
       "value": "red"
      }
     },
     "5ffd0518dc8d4b109a7be7ab5bfd3f6a": {
      "model_module": "@jupyter-widgets/base",
      "model_module_version": "1.1.0",
      "model_name": "LayoutModel",
      "state": {}
     },
     "610ff30fe24a4118af8926b0b36b4f8d": {
      "model_module": "@jupyter-widgets/controls",
      "model_module_version": "1.4.0",
      "model_name": "HBoxModel",
      "state": {
       "children": [
        "IPY_MODEL_40b25712f9024ee8a44e7cff4cc92b22",
        "IPY_MODEL_95169b24ec874e1bb7195589954bed65"
       ],
       "layout": "IPY_MODEL_0fa50c07ff0549d5a549aea74459210b"
      }
     },
     "63261331a753424eaea354482b81904e": {
      "model_module": "@jupyter-widgets/controls",
      "model_module_version": "1.4.0",
      "model_name": "FloatLogSliderModel",
      "state": {
       "description": "input (s)",
       "layout": "IPY_MODEL_fe77d339e0594aeca11ea52f6c3a44cb",
       "max": 1,
       "min": -3,
       "readout_format": ".3f",
       "step": 0.009999000000000001,
       "style": "IPY_MODEL_141c0a7a503d4917a822ea641c653a9c",
       "value": 0.1
      }
     },
     "63b1cf82bc914441b75760e48df4c229": {
      "model_module": "@jupyter-widgets/base",
      "model_module_version": "1.1.0",
      "model_name": "LayoutModel",
      "state": {}
     },
     "64b55a8ca8cf4711ba6834810b19df2e": {
      "model_module": "@jupyter-widgets/controls",
      "model_module_version": "1.4.0",
      "model_name": "FloatLogSliderModel",
      "state": {
       "description": "input (s)",
       "layout": "IPY_MODEL_01a9eef9f4554d19a7d6367a18b022f5",
       "max": 1,
       "min": -3,
       "readout_format": ".3f",
       "step": 0.009999000000000001,
       "style": "IPY_MODEL_a51e8fecc4bb4cbd95db6ff079feb44b",
       "value": 3
      }
     },
     "6641a0d603464ef7b2702dabdfa4044e": {
      "model_module": "@jupyter-widgets/base",
      "model_module_version": "1.1.0",
      "model_name": "LayoutModel",
      "state": {}
     },
     "697256090d374bb0a17da9e7b97058f8": {
      "model_module": "@jupyter-widgets/controls",
      "model_module_version": "1.4.0",
      "model_name": "FloatLogSliderModel",
      "state": {
       "description": "input (s)",
       "layout": "IPY_MODEL_486ec95dad72434996f13af104821459",
       "max": 1,
       "min": -3,
       "readout_format": ".3f",
       "step": 0.009999000000000001,
       "style": "IPY_MODEL_dbf33c70b57245eea34320a33ed56b6f",
       "value": 10
      }
     },
     "6a2d23aa09354a5bb0b896f64017a555": {
      "model_module": "@jupyter-widgets/base",
      "model_module_version": "1.1.0",
      "model_name": "LayoutModel",
      "state": {}
     },
     "6a42b1295e244316a7167c4e06f975ce": {
      "model_module": "@jupyter-widgets/controls",
      "model_module_version": "1.4.0",
      "model_name": "ColorPickerModel",
      "state": {
       "description": "line 3 color",
       "disabled": false,
       "layout": "IPY_MODEL_6a2d23aa09354a5bb0b896f64017a555",
       "style": "IPY_MODEL_2044bdf936b54da0a3d2a2a34608ab04",
       "value": "blue"
      }
     },
     "6b29b227e79c4176b8e8c1e63fe24d6c": {
      "model_module": "@jupyter-widgets/controls",
      "model_module_version": "1.4.0",
      "model_name": "DescriptionStyleModel",
      "state": {
       "description_width": ""
      }
     },
     "6efbdb832517415a9bc7858500ccc3c8": {
      "model_module": "@jupyter-widgets/base",
      "model_module_version": "1.1.0",
      "model_name": "LayoutModel",
      "state": {}
     },
     "7151445b16974898a35f31207be0e334": {
      "model_module": "@jupyter-widgets/base",
      "model_module_version": "1.1.0",
      "model_name": "LayoutModel",
      "state": {}
     },
     "75389862fb7b41cb86f784c20d30c9e0": {
      "model_module": "@jupyter-widgets/base",
      "model_module_version": "1.1.0",
      "model_name": "LayoutModel",
      "state": {}
     },
     "75e327eff3894da185ed512f4ca2f095": {
      "model_module": "@jupyter-widgets/controls",
      "model_module_version": "1.4.0",
      "model_name": "DescriptionStyleModel",
      "state": {
       "description_width": ""
      }
     },
     "79403f505777484fb7b3a853fb50fa96": {
      "model_module": "@jupyter-widgets/base",
      "model_module_version": "1.1.0",
      "model_name": "LayoutModel",
      "state": {}
     },
     "7c1cd5fb33d84406ab2c7cccd9e1b4e1": {
      "model_module": "@jupyter-widgets/base",
      "model_module_version": "1.1.0",
      "model_name": "LayoutModel",
      "state": {}
     },
     "7e042b25b9744053b556b546d4704881": {
      "model_module": "@jupyter-widgets/controls",
      "model_module_version": "1.4.0",
      "model_name": "BoundedFloatTextModel",
      "state": {
       "continuous_update": true,
       "description": "shift",
       "layout": "IPY_MODEL_5ddda5d3efb540259e54fbf3656008fd",
       "max": 10,
       "min": -10,
       "step": 0.05,
       "style": "IPY_MODEL_b1d4415bf8d04f2484b5eb8dd6743fed"
      }
     },
     "7e8de31e79744f83a746fc14b76ef6e9": {
      "model_module": "@jupyter-widgets/base",
      "model_module_version": "1.1.0",
      "model_name": "LayoutModel",
      "state": {}
     },
     "7eba594e65744b079a91589ac07e0f16": {
      "model_module": "@jupyter-widgets/base",
      "model_module_version": "1.1.0",
      "model_name": "LayoutModel",
      "state": {}
     },
     "8078e8d27a474a20abb8e258a3ba858d": {
      "model_module": "@jupyter-widgets/controls",
      "model_module_version": "1.4.0",
      "model_name": "DescriptionStyleModel",
      "state": {
       "description_width": ""
      }
     },
     "80ed25a29dfe41f4b1e37bc104bd99b1": {
      "model_module": "@jupyter-widgets/controls",
      "model_module_version": "1.4.0",
      "model_name": "FloatLogSliderModel",
      "state": {
       "description": "input (s)",
       "layout": "IPY_MODEL_5e61017971ec4266a4beb111bbbb50a8",
       "max": 1,
       "min": -3,
       "readout_format": ".3f",
       "step": 0.009999000000000001,
       "style": "IPY_MODEL_87d26c369e104a79b5f45062b69c1366"
      }
     },
     "8128bc9e186a4cedbeb3edbfb24b8d2f": {
      "model_module": "@jupyter-widgets/controls",
      "model_module_version": "1.4.0",
      "model_name": "DescriptionStyleModel",
      "state": {
       "description_width": ""
      }
     },
     "81776b7135cf4b3aaec38d4c46ac586c": {
      "model_module": "@jupyter-widgets/controls",
      "model_module_version": "1.4.0",
      "model_name": "BoundedFloatTextModel",
      "state": {
       "continuous_update": true,
       "description": "scale",
       "layout": "IPY_MODEL_bcd5813f1f4b4f259c5dfbb9c21fb5a7",
       "max": 10,
       "step": 0.05,
       "style": "IPY_MODEL_2767a5cbcf9f4140b9e2a48907989cf9",
       "value": 1
      }
     },
     "83216da757434025b67e066b8d6c4a43": {
      "model_module": "@jupyter-widgets/base",
      "model_module_version": "1.1.0",
      "model_name": "LayoutModel",
      "state": {}
     },
     "86f160149a3742588a5639aab531ca04": {
      "model_module": "@jupyter-widgets/output",
      "model_module_version": "1.0.0",
      "model_name": "OutputModel",
      "state": {
       "layout": "IPY_MODEL_a4c8c946f52b40d7b7f7aa7b962521f7"
      }
     },
     "87d26c369e104a79b5f45062b69c1366": {
      "model_module": "@jupyter-widgets/controls",
      "model_module_version": "1.4.0",
      "model_name": "SliderStyleModel",
      "state": {
       "description_width": ""
      }
     },
     "88ad79f46cd14ceeb752285091b8c64d": {
      "model_module": "@jupyter-widgets/controls",
      "model_module_version": "1.4.0",
      "model_name": "PlayModel",
      "state": {
       "description": "Press play",
       "layout": "IPY_MODEL_b37b1655a8cb4783b35a41424383b9e5",
       "max": 10,
       "step": 0,
       "style": "IPY_MODEL_ac0be48dcf734470b7473747d9c358a4"
      }
     },
     "88fc037b0b894010b8548739d588ff5b": {
      "model_module": "@jupyter-widgets/controls",
      "model_module_version": "1.4.0",
      "model_name": "FloatLogSliderModel",
      "state": {
       "description": "input (s)",
       "layout": "IPY_MODEL_93b5b26d30604a2bbd113b40146ecb04",
       "max": 1,
       "min": -3,
       "readout_format": ".3f",
       "step": 0.009999000000000001,
       "style": "IPY_MODEL_3fd005108fcd49efab70bc54e50919a3",
       "value": 2.628209616334579
      }
     },
     "8a09ff51ccfd4bb9a627c227b20dbbe8": {
      "model_module": "@jupyter-widgets/controls",
      "model_module_version": "1.4.0",
      "model_name": "DescriptionStyleModel",
      "state": {
       "description_width": ""
      }
     },
     "8a5effb1a25547df9fc2ef149ad95b4e": {
      "model_module": "@jupyter-widgets/controls",
      "model_module_version": "1.4.0",
      "model_name": "PlayModel",
      "state": {
       "description": "Press play",
       "layout": "IPY_MODEL_ec5a92cb17fc4647a17d52d86302c584",
       "max": 725,
       "min": 182,
       "step": 2,
       "style": "IPY_MODEL_8078e8d27a474a20abb8e258a3ba858d",
       "value": 432
      }
     },
     "8bdb078d0460449bb046585d8be6d3fd": {
      "model_module": "@jupyter-widgets/controls",
      "model_module_version": "1.4.0",
      "model_name": "PlayModel",
      "state": {
       "description": "Press play",
       "layout": "IPY_MODEL_bb0eb6e5e795457794ac7b42b67d4a24",
       "max": 10,
       "step": 0,
       "style": "IPY_MODEL_53c5edaa1d7d427ab106bb60c5aac58e"
      }
     },
     "8cb1294ff2d347e1af3e390fed4aeeba": {
      "model_module": "@jupyter-widgets/controls",
      "model_module_version": "1.4.0",
      "model_name": "HBoxModel",
      "state": {
       "children": [
        "IPY_MODEL_b819c00baedb45f4b5c6426fc0854d87",
        "IPY_MODEL_4c4e133cd81d4aeba274637282a259c9"
       ],
       "layout": "IPY_MODEL_a0bdaae53d6742718729a9709e50df40"
      }
     },
     "8db37c401ae3423d82b9ec43aeeed6dc": {
      "model_module": "@jupyter-widgets/controls",
      "model_module_version": "1.4.0",
      "model_name": "DescriptionStyleModel",
      "state": {
       "description_width": ""
      }
     },
     "8e462de60d614a5d8dc4bd7000b4ba84": {
      "model_module": "@jupyter-widgets/controls",
      "model_module_version": "1.4.0",
      "model_name": "LinkModel",
      "state": {
       "source": [
        "IPY_MODEL_5557ce88077a484cb3032f61576b46bf",
        "value"
       ],
       "target": [
        "IPY_MODEL_8a5effb1a25547df9fc2ef149ad95b4e",
        "value"
       ]
      }
     },
     "8ef854c3f85641b4b47e0b508a7204ce": {
      "model_module": "@jupyter-widgets/controls",
      "model_module_version": "1.4.0",
      "model_name": "BoundedFloatTextModel",
      "state": {
       "continuous_update": true,
       "description": "scale",
       "layout": "IPY_MODEL_b19f91441ea143589dac0960f4300ffb",
       "max": 10,
       "step": 0.05,
       "style": "IPY_MODEL_3501b00fe92e404eb5719c80c7584b3f",
       "value": 1
      }
     },
     "8f135b823c7f43538819d02d53e4e646": {
      "model_module": "@jupyter-widgets/controls",
      "model_module_version": "1.4.0",
      "model_name": "FloatLogSliderModel",
      "state": {
       "description": "input (s)",
       "layout": "IPY_MODEL_509a20a6aa33490a98c971a483266324",
       "max": 1,
       "min": -3,
       "readout_format": ".3f",
       "step": 0.009999000000000001,
       "style": "IPY_MODEL_f6629b5d81e54c4a8504f32eee04b4bd",
       "value": 10
      }
     },
     "8fdc43afcfa240c9bfc5708f2ac69583": {
      "model_module": "@jupyter-widgets/controls",
      "model_module_version": "1.4.0",
      "model_name": "FloatLogSliderModel",
      "state": {
       "description": "input (s)",
       "layout": "IPY_MODEL_11e9b4f0a67148a5af76c7ed20506a6d",
       "max": 1,
       "min": -3,
       "readout_format": ".3f",
       "step": 0.009999000000000001,
       "style": "IPY_MODEL_d21f9dd3e8cd4e9783fb0cdb22a06095",
       "value": 10
      }
     },
     "93b5b26d30604a2bbd113b40146ecb04": {
      "model_module": "@jupyter-widgets/base",
      "model_module_version": "1.1.0",
      "model_name": "LayoutModel",
      "state": {}
     },
     "95169b24ec874e1bb7195589954bed65": {
      "model_module": "@jupyter-widgets/controls",
      "model_module_version": "1.4.0",
      "model_name": "FloatSliderModel",
      "state": {
       "description": "input (nm)",
       "layout": "IPY_MODEL_1705d4b6354444ec9d54b40e14bb7a66",
       "max": 725.853,
       "min": 182.056,
       "step": 2.1242070312499997,
       "style": "IPY_MODEL_f54a854ffc3b4aa2afa1b0aac8524288",
       "value": 350
      }
     },
     "9880c9fd69e546da816ece6cf1d83f8e": {
      "model_module": "@jupyter-widgets/base",
      "model_module_version": "1.1.0",
      "model_name": "LayoutModel",
      "state": {}
     },
     "997ae1a0ff9b403da69c952556904168": {
      "model_module": "@jupyter-widgets/controls",
      "model_module_version": "1.4.0",
      "model_name": "ColorPickerModel",
      "state": {
       "description": "line 6 color",
       "disabled": false,
       "layout": "IPY_MODEL_3eb089c4d70d4da5bca3045ff13f86b5",
       "style": "IPY_MODEL_3520a0b869f944a5a28265b0d2cdf48d",
       "value": "#ff6600"
      }
     },
     "9c6232a5542a46d0b930836cf119839c": {
      "model_module": "@jupyter-widgets/base",
      "model_module_version": "1.1.0",
      "model_name": "LayoutModel",
      "state": {}
     },
     "9d1acfb934aa4562b0c728fac75acb09": {
      "model_module": "@jupyter-widgets/controls",
      "model_module_version": "1.4.0",
      "model_name": "DescriptionStyleModel",
      "state": {
       "description_width": ""
      }
     },
     "9edb5e7c205e4b599f5c531b824015f6": {
      "model_module": "@jupyter-widgets/base",
      "model_module_version": "1.1.0",
      "model_name": "LayoutModel",
      "state": {}
     },
     "a0ba108c66a5421b8154da174e01ecb7": {
      "model_module": "@jupyter-widgets/output",
      "model_module_version": "1.0.0",
      "model_name": "OutputModel",
      "state": {
       "layout": "IPY_MODEL_d28105e123e04a33a81092f22053af40"
      }
     },
     "a0bdaae53d6742718729a9709e50df40": {
      "model_module": "@jupyter-widgets/base",
      "model_module_version": "1.1.0",
      "model_name": "LayoutModel",
      "state": {}
     },
     "a1fbefa222bf49ebabb0a644489adcbd": {
      "model_module": "@jupyter-widgets/controls",
      "model_module_version": "1.4.0",
      "model_name": "VBoxModel",
      "state": {
       "_dom_classes": [
        "widget-interact"
       ],
       "children": [
        "IPY_MODEL_88fc037b0b894010b8548739d588ff5b",
        "IPY_MODEL_41924a3e5c4a48b0a2c38e83a6c9d25d"
       ],
       "layout": "IPY_MODEL_79403f505777484fb7b3a853fb50fa96"
      }
     },
     "a2d54f69555b4d79a73984d28dc0cc95": {
      "model_module": "@jupyter-widgets/controls",
      "model_module_version": "1.4.0",
      "model_name": "ColorPickerModel",
      "state": {
       "description": "line 1 color",
       "disabled": false,
       "layout": "IPY_MODEL_f1025869f50148578654ae33b7196456",
       "style": "IPY_MODEL_d43dfc306ff54d95a97b664dc4395827",
       "value": "red"
      }
     },
     "a315e02b38a8475a9b696e405dfd3276": {
      "model_module": "@jupyter-widgets/controls",
      "model_module_version": "1.4.0",
      "model_name": "DescriptionStyleModel",
      "state": {
       "description_width": ""
      }
     },
     "a4c8c946f52b40d7b7f7aa7b962521f7": {
      "model_module": "@jupyter-widgets/base",
      "model_module_version": "1.1.0",
      "model_name": "LayoutModel",
      "state": {}
     },
     "a51e8fecc4bb4cbd95db6ff079feb44b": {
      "model_module": "@jupyter-widgets/controls",
      "model_module_version": "1.4.0",
      "model_name": "SliderStyleModel",
      "state": {
       "description_width": ""
      }
     },
     "a84bee51e92245c9901ced10653376b1": {
      "model_module": "@jupyter-widgets/base",
      "model_module_version": "1.1.0",
      "model_name": "LayoutModel",
      "state": {}
     },
     "a85754675e054ddca62c347303136b3f": {
      "model_module": "@jupyter-widgets/controls",
      "model_module_version": "1.4.0",
      "model_name": "VBoxModel",
      "state": {
       "_dom_classes": [
        "widget-interact"
       ],
       "children": [
        "IPY_MODEL_88fc037b0b894010b8548739d588ff5b",
        "IPY_MODEL_c716bbd18d6242f2b9c40e97aa6341cf"
       ],
       "layout": "IPY_MODEL_9edb5e7c205e4b599f5c531b824015f6"
      }
     },
     "a958e0a3b2e642f2815ed9a3803149b8": {
      "model_module": "@jupyter-widgets/controls",
      "model_module_version": "1.4.0",
      "model_name": "DescriptionStyleModel",
      "state": {
       "description_width": ""
      }
     },
     "ac0be48dcf734470b7473747d9c358a4": {
      "model_module": "@jupyter-widgets/controls",
      "model_module_version": "1.4.0",
      "model_name": "DescriptionStyleModel",
      "state": {
       "description_width": ""
      }
     },
     "afe49a6be74c401c9944dcccc070e9be": {
      "model_module": "@jupyter-widgets/base",
      "model_module_version": "1.1.0",
      "model_name": "LayoutModel",
      "state": {}
     },
     "b19f91441ea143589dac0960f4300ffb": {
      "model_module": "@jupyter-widgets/base",
      "model_module_version": "1.1.0",
      "model_name": "LayoutModel",
      "state": {}
     },
     "b1d4415bf8d04f2484b5eb8dd6743fed": {
      "model_module": "@jupyter-widgets/controls",
      "model_module_version": "1.4.0",
      "model_name": "DescriptionStyleModel",
      "state": {
       "description_width": ""
      }
     },
     "b2f464251e5c491a9ac0dae166b14cb3": {
      "model_module": "@jupyter-widgets/controls",
      "model_module_version": "1.4.0",
      "model_name": "BoundedFloatTextModel",
      "state": {
       "continuous_update": true,
       "description": "shift",
       "layout": "IPY_MODEL_3a70787205a44bf787f06bd4c4e3a324",
       "max": 10,
       "min": -10,
       "step": 0.05,
       "style": "IPY_MODEL_8db37c401ae3423d82b9ec43aeeed6dc"
      }
     },
     "b37b1655a8cb4783b35a41424383b9e5": {
      "model_module": "@jupyter-widgets/base",
      "model_module_version": "1.1.0",
      "model_name": "LayoutModel",
      "state": {}
     },
     "b5eaa22a98fa40d8bb463a0f542dbbf4": {
      "model_module": "@jupyter-widgets/controls",
      "model_module_version": "1.4.0",
      "model_name": "DescriptionStyleModel",
      "state": {
       "description_width": ""
      }
     },
     "b819c00baedb45f4b5c6426fc0854d87": {
      "model_module": "@jupyter-widgets/controls",
      "model_module_version": "1.4.0",
      "model_name": "PlayModel",
      "state": {
       "description": "Press play",
       "layout": "IPY_MODEL_afe49a6be74c401c9944dcccc070e9be",
       "max": 725,
       "min": 182,
       "step": 2,
       "style": "IPY_MODEL_b5eaa22a98fa40d8bb463a0f542dbbf4",
       "value": 500
      }
     },
     "b84d4321075540cba1d52a746063c602": {
      "model_module": "@jupyter-widgets/controls",
      "model_module_version": "1.4.0",
      "model_name": "BoundedFloatTextModel",
      "state": {
       "continuous_update": true,
       "description": "scale",
       "layout": "IPY_MODEL_c00b17266cb647bd9633099f34dc7979",
       "max": 10,
       "step": 0.05,
       "style": "IPY_MODEL_d1e36b4e3c2c4f0dbcc2ee863f39ab44",
       "value": 1
      }
     },
     "b88901658d02478eb2afb11330fce6f6": {
      "model_module": "@jupyter-widgets/controls",
      "model_module_version": "1.4.0",
      "model_name": "DescriptionStyleModel",
      "state": {
       "description_width": ""
      }
     },
     "ba7fe1a10d9248d880fb9ba1c012643e": {
      "model_module": "@jupyter-widgets/base",
      "model_module_version": "1.1.0",
      "model_name": "LayoutModel",
      "state": {}
     },
     "bb0eb6e5e795457794ac7b42b67d4a24": {
      "model_module": "@jupyter-widgets/base",
      "model_module_version": "1.1.0",
      "model_name": "LayoutModel",
      "state": {}
     },
     "bcd5813f1f4b4f259c5dfbb9c21fb5a7": {
      "model_module": "@jupyter-widgets/base",
      "model_module_version": "1.1.0",
      "model_name": "LayoutModel",
      "state": {}
     },
     "bd70eb7aedd6442ea4ce014a595013d0": {
      "model_module": "@jupyter-widgets/base",
      "model_module_version": "1.1.0",
      "model_name": "LayoutModel",
      "state": {}
     },
     "bf419c2dd3a34dbcae988a2e3213e0e9": {
      "model_module": "@jupyter-widgets/controls",
      "model_module_version": "1.4.0",
      "model_name": "PlayModel",
      "state": {
       "description": "Press play",
       "layout": "IPY_MODEL_ba7fe1a10d9248d880fb9ba1c012643e",
       "max": 10,
       "step": 0,
       "style": "IPY_MODEL_c6b5a888d8ee40f4888f075ebac21f65"
      }
     },
     "c00b17266cb647bd9633099f34dc7979": {
      "model_module": "@jupyter-widgets/base",
      "model_module_version": "1.1.0",
      "model_name": "LayoutModel",
      "state": {}
     },
     "c06f02c3cfc646d486a3f648d0a642a4": {
      "model_module": "@jupyter-widgets/controls",
      "model_module_version": "1.4.0",
      "model_name": "BoundedFloatTextModel",
      "state": {
       "continuous_update": true,
       "description": "scale",
       "layout": "IPY_MODEL_4b7c2ad8d51742f09a8effa417566f62",
       "max": 10,
       "step": 0.05,
       "style": "IPY_MODEL_35850e932b8d4dc487b527c33f6636de",
       "value": 1
      }
     },
     "c25bfbf9c369413f9a468289a2903cab": {
      "model_module": "@jupyter-widgets/controls",
      "model_module_version": "1.4.0",
      "model_name": "DescriptionStyleModel",
      "state": {
       "description_width": ""
      }
     },
     "c6b5a888d8ee40f4888f075ebac21f65": {
      "model_module": "@jupyter-widgets/controls",
      "model_module_version": "1.4.0",
      "model_name": "DescriptionStyleModel",
      "state": {
       "description_width": ""
      }
     },
     "c716bbd18d6242f2b9c40e97aa6341cf": {
      "model_module": "@jupyter-widgets/output",
      "model_module_version": "1.0.0",
      "model_name": "OutputModel",
      "state": {
       "layout": "IPY_MODEL_d7df1b93ea5c40c090c5d859864a0f84"
      }
     },
     "c8d19e07f5b9461b8f2a8f643377e699": {
      "model_module": "@jupyter-widgets/base",
      "model_module_version": "1.1.0",
      "model_name": "LayoutModel",
      "state": {}
     },
     "cb0a00258a914b60a041927a61a2b2ca": {
      "model_module": "@jupyter-widgets/base",
      "model_module_version": "1.1.0",
      "model_name": "LayoutModel",
      "state": {}
     },
     "cb831d072f6044038fdc92130db29440": {
      "model_module": "@jupyter-widgets/base",
      "model_module_version": "1.1.0",
      "model_name": "LayoutModel",
      "state": {}
     },
     "ccd357d9fe8a4360b37a8cd58def9fef": {
      "model_module": "@jupyter-widgets/base",
      "model_module_version": "1.1.0",
      "model_name": "LayoutModel",
      "state": {}
     },
     "d1e36b4e3c2c4f0dbcc2ee863f39ab44": {
      "model_module": "@jupyter-widgets/controls",
      "model_module_version": "1.4.0",
      "model_name": "DescriptionStyleModel",
      "state": {
       "description_width": ""
      }
     },
     "d21f9dd3e8cd4e9783fb0cdb22a06095": {
      "model_module": "@jupyter-widgets/controls",
      "model_module_version": "1.4.0",
      "model_name": "SliderStyleModel",
      "state": {
       "description_width": ""
      }
     },
     "d261efebceb242d086667ca7b24df939": {
      "model_module": "@jupyter-widgets/base",
      "model_module_version": "1.1.0",
      "model_name": "LayoutModel",
      "state": {}
     },
     "d28105e123e04a33a81092f22053af40": {
      "model_module": "@jupyter-widgets/base",
      "model_module_version": "1.1.0",
      "model_name": "LayoutModel",
      "state": {}
     },
     "d3c8035bc3f345c1b6fc39cfc0fa1fa4": {
      "model_module": "@jupyter-widgets/controls",
      "model_module_version": "1.4.0",
      "model_name": "BoundedFloatTextModel",
      "state": {
       "continuous_update": true,
       "description": "shift",
       "layout": "IPY_MODEL_44c8d645406742d1bc8da459b12f5aa8",
       "max": 10,
       "min": -10,
       "step": 0.05,
       "style": "IPY_MODEL_9d1acfb934aa4562b0c728fac75acb09"
      }
     },
     "d43dfc306ff54d95a97b664dc4395827": {
      "model_module": "@jupyter-widgets/controls",
      "model_module_version": "1.4.0",
      "model_name": "DescriptionStyleModel",
      "state": {
       "description_width": ""
      }
     },
     "d4eb94369f944dc48de4ce0585dd917a": {
      "model_module": "@jupyter-widgets/base",
      "model_module_version": "1.1.0",
      "model_name": "LayoutModel",
      "state": {}
     },
     "d50fa43b2f584ff2a8a2d26c3780d991": {
      "model_module": "@jupyter-widgets/base",
      "model_module_version": "1.1.0",
      "model_name": "LayoutModel",
      "state": {}
     },
     "d59fcbcf422b4124aa28289561b72105": {
      "model_module": "@jupyter-widgets/controls",
      "model_module_version": "1.4.0",
      "model_name": "ColorPickerModel",
      "state": {
       "description": "line 5 color",
       "disabled": false,
       "layout": "IPY_MODEL_9c6232a5542a46d0b930836cf119839c",
       "style": "IPY_MODEL_a315e02b38a8475a9b696e405dfd3276",
       "value": "magenta"
      }
     },
     "d7df1b93ea5c40c090c5d859864a0f84": {
      "model_module": "@jupyter-widgets/base",
      "model_module_version": "1.1.0",
      "model_name": "LayoutModel",
      "state": {}
     },
     "dbf33c70b57245eea34320a33ed56b6f": {
      "model_module": "@jupyter-widgets/controls",
      "model_module_version": "1.4.0",
      "model_name": "SliderStyleModel",
      "state": {
       "description_width": ""
      }
     },
     "dc0f659dcd4e4fb28c48585e1a7f481a": {
      "model_module": "@jupyter-widgets/base",
      "model_module_version": "1.1.0",
      "model_name": "LayoutModel",
      "state": {}
     },
     "dd7a0f835dd8492dbe445496d02184ff": {
      "model_module": "@jupyter-widgets/controls",
      "model_module_version": "1.4.0",
      "model_name": "DescriptionStyleModel",
      "state": {
       "description_width": ""
      }
     },
     "e0353a95bcad495e889d661b8227a151": {
      "model_module": "@jupyter-widgets/controls",
      "model_module_version": "1.4.0",
      "model_name": "BoundedFloatTextModel",
      "state": {
       "continuous_update": true,
       "description": "shift",
       "layout": "IPY_MODEL_5ffd0518dc8d4b109a7be7ab5bfd3f6a",
       "max": 10,
       "min": -10,
       "step": 0.05,
       "style": "IPY_MODEL_8128bc9e186a4cedbeb3edbfb24b8d2f"
      }
     },
     "e0bbe9c6201b45ab82ba0d055f9c4c27": {
      "model_module": "@jupyter-widgets/controls",
      "model_module_version": "1.4.0",
      "model_name": "FloatLogSliderModel",
      "state": {
       "description": "input (s)",
       "layout": "IPY_MODEL_9880c9fd69e546da816ece6cf1d83f8e",
       "max": 1,
       "min": -3,
       "readout_format": ".3f",
       "step": 0.009999000000000001,
       "style": "IPY_MODEL_4bf1e1da56a14d10bc834230922ae00b",
       "value": 0.3
      }
     },
     "e8ad6a6ca69d46e0bb28a55bfaf07879": {
      "model_module": "@jupyter-widgets/controls",
      "model_module_version": "1.4.0",
      "model_name": "PlayModel",
      "state": {
       "description": "Press play",
       "layout": "IPY_MODEL_d4eb94369f944dc48de4ce0585dd917a",
       "max": 10,
       "step": 0,
       "style": "IPY_MODEL_c25bfbf9c369413f9a468289a2903cab"
      }
     },
     "e90a9cc65ad74880a64bb9906d2b2095": {
      "model_module": "@jupyter-widgets/controls",
      "model_module_version": "1.4.0",
      "model_name": "DescriptionStyleModel",
      "state": {
       "description_width": ""
      }
     },
     "ec5a92cb17fc4647a17d52d86302c584": {
      "model_module": "@jupyter-widgets/base",
      "model_module_version": "1.1.0",
      "model_name": "LayoutModel",
      "state": {}
     },
     "eee77ca62a294e55a6f5c8e9f6b07c14": {
      "model_module": "@jupyter-widgets/controls",
      "model_module_version": "1.4.0",
      "model_name": "BoundedFloatTextModel",
      "state": {
       "continuous_update": true,
       "description": "shift",
       "layout": "IPY_MODEL_2d864929e489450b8fcdb25fcdcd0f2d",
       "max": 10,
       "min": -10,
       "step": 0.05,
       "style": "IPY_MODEL_30f76a3a36c24820a500d4db07aa0661"
      }
     },
     "efb817e9b4744dbb9d36b230ed12586b": {
      "model_module": "@jupyter-widgets/controls",
      "model_module_version": "1.4.0",
      "model_name": "BoundedFloatTextModel",
      "state": {
       "continuous_update": true,
       "description": "scale",
       "layout": "IPY_MODEL_63b1cf82bc914441b75760e48df4c229",
       "max": 10,
       "step": 0.05,
       "style": "IPY_MODEL_0e87518dbdd148179370cb72c047534c",
       "value": 1
      }
     },
     "f1025869f50148578654ae33b7196456": {
      "model_module": "@jupyter-widgets/base",
      "model_module_version": "1.1.0",
      "model_name": "LayoutModel",
      "state": {}
     },
     "f36a8db5ad43410d955274b7a4a7afff": {
      "model_module": "@jupyter-widgets/output",
      "model_module_version": "1.0.0",
      "model_name": "OutputModel",
      "state": {
       "layout": "IPY_MODEL_1608b950db94461ba3bb12b8b9888b60"
      }
     },
     "f54a854ffc3b4aa2afa1b0aac8524288": {
      "model_module": "@jupyter-widgets/controls",
      "model_module_version": "1.4.0",
      "model_name": "SliderStyleModel",
      "state": {
       "description_width": ""
      }
     },
     "f59008b1fbff42cdac2d4cb33e343091": {
      "model_module": "@jupyter-widgets/controls",
      "model_module_version": "1.4.0",
      "model_name": "DescriptionStyleModel",
      "state": {
       "description_width": ""
      }
     },
     "f6629b5d81e54c4a8504f32eee04b4bd": {
      "model_module": "@jupyter-widgets/controls",
      "model_module_version": "1.4.0",
      "model_name": "SliderStyleModel",
      "state": {
       "description_width": ""
      }
     },
     "fa7ded9b86b6402d9167c4757819a706": {
      "model_module": "@jupyter-widgets/controls",
      "model_module_version": "1.4.0",
      "model_name": "DescriptionStyleModel",
      "state": {
       "description_width": ""
      }
     },
     "fb9a2e28168c409c87134af687eeeeae": {
      "model_module": "@jupyter-widgets/controls",
      "model_module_version": "1.4.0",
      "model_name": "ColorPickerModel",
      "state": {
       "description": "line 2 color",
       "disabled": false,
       "layout": "IPY_MODEL_ccd357d9fe8a4360b37a8cd58def9fef",
       "style": "IPY_MODEL_f59008b1fbff42cdac2d4cb33e343091",
       "value": "green"
      }
     },
     "fce803be09c44db783d9108aa765ce35": {
      "model_module": "@jupyter-widgets/controls",
      "model_module_version": "1.4.0",
      "model_name": "ColorPickerModel",
      "state": {
       "description": "line 0 color",
       "disabled": false,
       "layout": "IPY_MODEL_15154e89612943b780b09fae9a9744f8",
       "style": "IPY_MODEL_6b29b227e79c4176b8e8c1e63fe24d6c"
      }
     },
     "fe77d339e0594aeca11ea52f6c3a44cb": {
      "model_module": "@jupyter-widgets/base",
      "model_module_version": "1.1.0",
      "model_name": "LayoutModel",
      "state": {}
     },
     "fefa121bf2fc42c29518814df1f5a37c": {
      "model_module": "@jupyter-widgets/controls",
      "model_module_version": "1.4.0",
      "model_name": "ColorPickerModel",
      "state": {
       "description": "line 0 color",
       "disabled": false,
       "layout": "IPY_MODEL_bd70eb7aedd6442ea4ce014a595013d0",
       "style": "IPY_MODEL_023ebe60890f4796b0cd88d50d84edf5"
      }
     }
    },
    "version_major": 2,
    "version_minor": 0
   }
  }
 },
 "nbformat": 4,
 "nbformat_minor": 4
}
